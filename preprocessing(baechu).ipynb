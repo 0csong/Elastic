{
 "cells": [
  {
   "cell_type": "code",
   "execution_count": 229,
   "id": "042c95a3",
   "metadata": {},
   "outputs": [],
   "source": [
    "import numpy as np\n",
    "import pandas as pd\n",
    "import os\n",
    "# Visualization\n",
    "import matplotlib.pyplot as plt\n",
    "import seaborn as sns\n",
    "import scipy.stats"
   ]
  },
  {
   "cell_type": "code",
   "execution_count": 240,
   "id": "feec412a",
   "metadata": {},
   "outputs": [],
   "source": [
    "# baechu =  pd.read_csv('C:/Users/nicky/Desktop/elastic/배추가격/2021배추1kg.csv',encoding='cp949')\n",
    "# print(baechu)\n",
    "# baechu=baechu.transpose()\n",
    "# print(baechu)\n",
    "# baechu.to_csv('C:/Users/nicky/Desktop/elastic/배추가격/2021baechu.csv',index = True)\n"
   ]
  },
  {
   "cell_type": "code",
   "execution_count": 601,
   "id": "f668f3e7",
   "metadata": {},
   "outputs": [
    {
     "name": "stdout",
     "output_type": "stream",
     "text": [
      "          구분   평균\n",
      "0    01월 04일  473\n",
      "1    01월 05일  510\n",
      "2    01월 06일  520\n",
      "3    01월 07일  510\n",
      "4    01월 08일  510\n",
      "..       ...  ...\n",
      "243  12월 27일  925\n",
      "244  12월 28일  894\n",
      "245  12월 29일  922\n",
      "246  12월 30일  926\n",
      "247  12월 31일  896\n",
      "\n",
      "[248 rows x 2 columns]\n"
     ]
    }
   ],
   "source": [
    "baechu =  pd.read_csv('C:/Users/nicky/Desktop/elastic/배추가격/2021baechu.csv',encoding='cp949')\n",
    "print(baechu)"
   ]
  },
  {
   "cell_type": "code",
   "execution_count": 602,
   "id": "fb2caaf4",
   "metadata": {},
   "outputs": [],
   "source": [
    "month = baechu['구분'].apply(lambda x:x[:2])\n",
    "day = baechu['구분'].apply(lambda x:x[4:6])"
   ]
  },
  {
   "cell_type": "code",
   "execution_count": 603,
   "id": "c8e34332",
   "metadata": {},
   "outputs": [
    {
     "data": {
      "text/html": [
       "<div>\n",
       "<style scoped>\n",
       "    .dataframe tbody tr th:only-of-type {\n",
       "        vertical-align: middle;\n",
       "    }\n",
       "\n",
       "    .dataframe tbody tr th {\n",
       "        vertical-align: top;\n",
       "    }\n",
       "\n",
       "    .dataframe thead th {\n",
       "        text-align: right;\n",
       "    }\n",
       "</style>\n",
       "<table border=\"1\" class=\"dataframe\">\n",
       "  <thead>\n",
       "    <tr style=\"text-align: right;\">\n",
       "      <th></th>\n",
       "      <th>구분</th>\n",
       "      <th>평균</th>\n",
       "      <th>date</th>\n",
       "    </tr>\n",
       "  </thead>\n",
       "  <tbody>\n",
       "    <tr>\n",
       "      <th>0</th>\n",
       "      <td>01월 04일</td>\n",
       "      <td>473</td>\n",
       "      <td>2021-01-04</td>\n",
       "    </tr>\n",
       "    <tr>\n",
       "      <th>1</th>\n",
       "      <td>01월 05일</td>\n",
       "      <td>510</td>\n",
       "      <td>2021-01-05</td>\n",
       "    </tr>\n",
       "    <tr>\n",
       "      <th>2</th>\n",
       "      <td>01월 06일</td>\n",
       "      <td>520</td>\n",
       "      <td>2021-01-06</td>\n",
       "    </tr>\n",
       "    <tr>\n",
       "      <th>3</th>\n",
       "      <td>01월 07일</td>\n",
       "      <td>510</td>\n",
       "      <td>2021-01-07</td>\n",
       "    </tr>\n",
       "    <tr>\n",
       "      <th>4</th>\n",
       "      <td>01월 08일</td>\n",
       "      <td>510</td>\n",
       "      <td>2021-01-08</td>\n",
       "    </tr>\n",
       "    <tr>\n",
       "      <th>...</th>\n",
       "      <td>...</td>\n",
       "      <td>...</td>\n",
       "      <td>...</td>\n",
       "    </tr>\n",
       "    <tr>\n",
       "      <th>243</th>\n",
       "      <td>12월 27일</td>\n",
       "      <td>925</td>\n",
       "      <td>2021-12-27</td>\n",
       "    </tr>\n",
       "    <tr>\n",
       "      <th>244</th>\n",
       "      <td>12월 28일</td>\n",
       "      <td>894</td>\n",
       "      <td>2021-12-28</td>\n",
       "    </tr>\n",
       "    <tr>\n",
       "      <th>245</th>\n",
       "      <td>12월 29일</td>\n",
       "      <td>922</td>\n",
       "      <td>2021-12-29</td>\n",
       "    </tr>\n",
       "    <tr>\n",
       "      <th>246</th>\n",
       "      <td>12월 30일</td>\n",
       "      <td>926</td>\n",
       "      <td>2021-12-30</td>\n",
       "    </tr>\n",
       "    <tr>\n",
       "      <th>247</th>\n",
       "      <td>12월 31일</td>\n",
       "      <td>896</td>\n",
       "      <td>2021-12-31</td>\n",
       "    </tr>\n",
       "  </tbody>\n",
       "</table>\n",
       "<p>248 rows × 3 columns</p>\n",
       "</div>"
      ],
      "text/plain": [
       "          구분   평균        date\n",
       "0    01월 04일  473  2021-01-04\n",
       "1    01월 05일  510  2021-01-05\n",
       "2    01월 06일  520  2021-01-06\n",
       "3    01월 07일  510  2021-01-07\n",
       "4    01월 08일  510  2021-01-08\n",
       "..       ...  ...         ...\n",
       "243  12월 27일  925  2021-12-27\n",
       "244  12월 28일  894  2021-12-28\n",
       "245  12월 29일  922  2021-12-29\n",
       "246  12월 30일  926  2021-12-30\n",
       "247  12월 31일  896  2021-12-31\n",
       "\n",
       "[248 rows x 3 columns]"
      ]
     },
     "execution_count": 603,
     "metadata": {},
     "output_type": "execute_result"
    }
   ],
   "source": [
    "baechu['date'] = '2021-' + month + '-' + day\n",
    "baechu"
   ]
  },
  {
   "cell_type": "code",
   "execution_count": 604,
   "id": "129b973b",
   "metadata": {},
   "outputs": [
    {
     "data": {
      "text/plain": [
       "0      01월 04일\n",
       "1      01월 05일\n",
       "2      01월 06일\n",
       "3      01월 07일\n",
       "4      01월 08일\n",
       "        ...   \n",
       "243    12월 27일\n",
       "244    12월 28일\n",
       "245    12월 29일\n",
       "246    12월 30일\n",
       "247    12월 31일\n",
       "Name: 구분, Length: 248, dtype: object"
      ]
     },
     "execution_count": 604,
     "metadata": {},
     "output_type": "execute_result"
    }
   ],
   "source": [
    "baechu.pop('구분')"
   ]
  },
  {
   "cell_type": "code",
   "execution_count": 605,
   "id": "d5b1122b",
   "metadata": {},
   "outputs": [
    {
     "name": "stdout",
     "output_type": "stream",
     "text": [
      "<class 'pandas.core.frame.DataFrame'>\n",
      "RangeIndex: 248 entries, 0 to 247\n",
      "Data columns (total 2 columns):\n",
      " #   Column  Non-Null Count  Dtype \n",
      "---  ------  --------------  ----- \n",
      " 0   price   248 non-null    object\n",
      " 1   date    248 non-null    object\n",
      "dtypes: object(2)\n",
      "memory usage: 4.0+ KB\n"
     ]
    }
   ],
   "source": [
    "baechu.columns = ['price', 'date']\n",
    "baechu.info()"
   ]
  },
  {
   "cell_type": "code",
   "execution_count": 606,
   "id": "9b6c2749",
   "metadata": {},
   "outputs": [],
   "source": [
    "baechu[\"price\"] = baechu[\"price\"].str.replace(pat=r'[^\\w]', repl=r'', regex=True)"
   ]
  },
  {
   "cell_type": "code",
   "execution_count": 607,
   "id": "6cfc3837",
   "metadata": {},
   "outputs": [
    {
     "name": "stdout",
     "output_type": "stream",
     "text": [
      "<class 'pandas.core.frame.DataFrame'>\n",
      "RangeIndex: 248 entries, 0 to 247\n",
      "Data columns (total 2 columns):\n",
      " #   Column  Non-Null Count  Dtype \n",
      "---  ------  --------------  ----- \n",
      " 0   price   248 non-null    object\n",
      " 1   date    248 non-null    object\n",
      "dtypes: object(2)\n",
      "memory usage: 4.0+ KB\n"
     ]
    }
   ],
   "source": [
    "baechu.info()"
   ]
  },
  {
   "cell_type": "code",
   "execution_count": 608,
   "id": "312740f6",
   "metadata": {},
   "outputs": [
    {
     "data": {
      "text/html": [
       "<div>\n",
       "<style scoped>\n",
       "    .dataframe tbody tr th:only-of-type {\n",
       "        vertical-align: middle;\n",
       "    }\n",
       "\n",
       "    .dataframe tbody tr th {\n",
       "        vertical-align: top;\n",
       "    }\n",
       "\n",
       "    .dataframe thead th {\n",
       "        text-align: right;\n",
       "    }\n",
       "</style>\n",
       "<table border=\"1\" class=\"dataframe\">\n",
       "  <thead>\n",
       "    <tr style=\"text-align: right;\">\n",
       "      <th></th>\n",
       "      <th>price</th>\n",
       "      <th>date</th>\n",
       "    </tr>\n",
       "  </thead>\n",
       "  <tbody>\n",
       "    <tr>\n",
       "      <th>0</th>\n",
       "      <td>473</td>\n",
       "      <td>2021-01-04</td>\n",
       "    </tr>\n",
       "    <tr>\n",
       "      <th>1</th>\n",
       "      <td>510</td>\n",
       "      <td>2021-01-05</td>\n",
       "    </tr>\n",
       "    <tr>\n",
       "      <th>2</th>\n",
       "      <td>520</td>\n",
       "      <td>2021-01-06</td>\n",
       "    </tr>\n",
       "    <tr>\n",
       "      <th>3</th>\n",
       "      <td>510</td>\n",
       "      <td>2021-01-07</td>\n",
       "    </tr>\n",
       "    <tr>\n",
       "      <th>4</th>\n",
       "      <td>510</td>\n",
       "      <td>2021-01-08</td>\n",
       "    </tr>\n",
       "    <tr>\n",
       "      <th>...</th>\n",
       "      <td>...</td>\n",
       "      <td>...</td>\n",
       "    </tr>\n",
       "    <tr>\n",
       "      <th>243</th>\n",
       "      <td>925</td>\n",
       "      <td>2021-12-27</td>\n",
       "    </tr>\n",
       "    <tr>\n",
       "      <th>244</th>\n",
       "      <td>894</td>\n",
       "      <td>2021-12-28</td>\n",
       "    </tr>\n",
       "    <tr>\n",
       "      <th>245</th>\n",
       "      <td>922</td>\n",
       "      <td>2021-12-29</td>\n",
       "    </tr>\n",
       "    <tr>\n",
       "      <th>246</th>\n",
       "      <td>926</td>\n",
       "      <td>2021-12-30</td>\n",
       "    </tr>\n",
       "    <tr>\n",
       "      <th>247</th>\n",
       "      <td>896</td>\n",
       "      <td>2021-12-31</td>\n",
       "    </tr>\n",
       "  </tbody>\n",
       "</table>\n",
       "<p>248 rows × 2 columns</p>\n",
       "</div>"
      ],
      "text/plain": [
       "    price        date\n",
       "0     473  2021-01-04\n",
       "1     510  2021-01-05\n",
       "2     520  2021-01-06\n",
       "3     510  2021-01-07\n",
       "4     510  2021-01-08\n",
       "..    ...         ...\n",
       "243   925  2021-12-27\n",
       "244   894  2021-12-28\n",
       "245   922  2021-12-29\n",
       "246   926  2021-12-30\n",
       "247   896  2021-12-31\n",
       "\n",
       "[248 rows x 2 columns]"
      ]
     },
     "execution_count": 608,
     "metadata": {},
     "output_type": "execute_result"
    }
   ],
   "source": [
    "baechu"
   ]
  },
  {
   "cell_type": "code",
   "execution_count": 610,
   "id": "b7fa455a",
   "metadata": {},
   "outputs": [
    {
     "name": "stdout",
     "output_type": "stream",
     "text": [
      "(6, 4)\n",
      "<bound method NDFrame.head of     지점  지점명          일시  일 최심신적설(cm)\n",
      "0  104  북강릉  2021-03-01         32.4\n",
      "1  104  북강릉  2021-03-02          6.2\n",
      "2  104  북강릉  2021-03-06          2.3\n",
      "3  104  북강릉  2021-03-07          0.1\n",
      "4  104  북강릉  2021-12-24         12.9\n",
      "5  104  북강릉  2021-12-25         23.5>\n"
     ]
    }
   ],
   "source": [
    "ondo =  pd.read_csv('C:/Users/nicky/Desktop/elastic/배추데이터/적설량/2021대관령적설량.csv',encoding='cp949')\n",
    "print(ondo.shape)\n",
    "print(ondo.head)"
   ]
  },
  {
   "cell_type": "code",
   "execution_count": 611,
   "id": "e6583d8b",
   "metadata": {},
   "outputs": [
    {
     "name": "stdout",
     "output_type": "stream",
     "text": [
      "<class 'pandas.core.frame.DataFrame'>\n",
      "RangeIndex: 6 entries, 0 to 5\n",
      "Data columns (total 4 columns):\n",
      " #   Column  Non-Null Count  Dtype  \n",
      "---  ------  --------------  -----  \n",
      " 0   place   6 non-null      int64  \n",
      " 1   name    6 non-null      object \n",
      " 2   date    6 non-null      object \n",
      " 3   snow    6 non-null      float64\n",
      "dtypes: float64(1), int64(1), object(2)\n",
      "memory usage: 320.0+ bytes\n"
     ]
    }
   ],
   "source": [
    "ondo.columns=['place','name','date','snow']\n",
    "ondo.info()"
   ]
  },
  {
   "cell_type": "code",
   "execution_count": 612,
   "id": "0b3b13e6",
   "metadata": {},
   "outputs": [],
   "source": [
    "df = pd.merge(left = ondo , right = baechu, how = \"inner\", on = \"date\")"
   ]
  },
  {
   "cell_type": "code",
   "execution_count": 613,
   "id": "eaa9a038",
   "metadata": {},
   "outputs": [
    {
     "data": {
      "text/html": [
       "<div>\n",
       "<style scoped>\n",
       "    .dataframe tbody tr th:only-of-type {\n",
       "        vertical-align: middle;\n",
       "    }\n",
       "\n",
       "    .dataframe tbody tr th {\n",
       "        vertical-align: top;\n",
       "    }\n",
       "\n",
       "    .dataframe thead th {\n",
       "        text-align: right;\n",
       "    }\n",
       "</style>\n",
       "<table border=\"1\" class=\"dataframe\">\n",
       "  <thead>\n",
       "    <tr style=\"text-align: right;\">\n",
       "      <th></th>\n",
       "      <th>place</th>\n",
       "      <th>name</th>\n",
       "      <th>date</th>\n",
       "      <th>snow</th>\n",
       "      <th>price</th>\n",
       "    </tr>\n",
       "  </thead>\n",
       "  <tbody>\n",
       "    <tr>\n",
       "      <th>0</th>\n",
       "      <td>104</td>\n",
       "      <td>북강릉</td>\n",
       "      <td>2021-03-02</td>\n",
       "      <td>6.2</td>\n",
       "      <td>1046</td>\n",
       "    </tr>\n",
       "    <tr>\n",
       "      <th>1</th>\n",
       "      <td>104</td>\n",
       "      <td>북강릉</td>\n",
       "      <td>2021-12-24</td>\n",
       "      <td>12.9</td>\n",
       "      <td>797</td>\n",
       "    </tr>\n",
       "  </tbody>\n",
       "</table>\n",
       "</div>"
      ],
      "text/plain": [
       "   place name        date  snow price\n",
       "0    104  북강릉  2021-03-02   6.2  1046\n",
       "1    104  북강릉  2021-12-24  12.9   797"
      ]
     },
     "execution_count": 613,
     "metadata": {},
     "output_type": "execute_result"
    }
   ],
   "source": [
    "df"
   ]
  },
  {
   "cell_type": "code",
   "execution_count": 614,
   "id": "52a3aa2b",
   "metadata": {},
   "outputs": [],
   "source": [
    "df=df.drop(['place','name'], axis=1)"
   ]
  },
  {
   "cell_type": "code",
   "execution_count": 615,
   "id": "51f7a707",
   "metadata": {},
   "outputs": [
    {
     "data": {
      "text/html": [
       "<div>\n",
       "<style scoped>\n",
       "    .dataframe tbody tr th:only-of-type {\n",
       "        vertical-align: middle;\n",
       "    }\n",
       "\n",
       "    .dataframe tbody tr th {\n",
       "        vertical-align: top;\n",
       "    }\n",
       "\n",
       "    .dataframe thead th {\n",
       "        text-align: right;\n",
       "    }\n",
       "</style>\n",
       "<table border=\"1\" class=\"dataframe\">\n",
       "  <thead>\n",
       "    <tr style=\"text-align: right;\">\n",
       "      <th></th>\n",
       "      <th>date</th>\n",
       "      <th>snow</th>\n",
       "      <th>price</th>\n",
       "    </tr>\n",
       "  </thead>\n",
       "  <tbody>\n",
       "    <tr>\n",
       "      <th>0</th>\n",
       "      <td>2021-03-02</td>\n",
       "      <td>6.2</td>\n",
       "      <td>1046</td>\n",
       "    </tr>\n",
       "    <tr>\n",
       "      <th>1</th>\n",
       "      <td>2021-12-24</td>\n",
       "      <td>12.9</td>\n",
       "      <td>797</td>\n",
       "    </tr>\n",
       "  </tbody>\n",
       "</table>\n",
       "</div>"
      ],
      "text/plain": [
       "         date  snow price\n",
       "0  2021-03-02   6.2  1046\n",
       "1  2021-12-24  12.9   797"
      ]
     },
     "execution_count": 615,
     "metadata": {},
     "output_type": "execute_result"
    }
   ],
   "source": [
    "df"
   ]
  },
  {
   "cell_type": "code",
   "execution_count": 616,
   "id": "addc09ef",
   "metadata": {},
   "outputs": [],
   "source": [
    "df.to_csv('./배추가격/inter적설량/2021snowintegrated.csv', index=False)"
   ]
  },
  {
   "cell_type": "code",
   "execution_count": null,
   "id": "128d67c9",
   "metadata": {},
   "outputs": [],
   "source": []
  }
 ],
 "metadata": {
  "kernelspec": {
   "display_name": "bigdata",
   "language": "python",
   "name": "bigdata"
  },
  "language_info": {
   "codemirror_mode": {
    "name": "ipython",
    "version": 3
   },
   "file_extension": ".py",
   "mimetype": "text/x-python",
   "name": "python",
   "nbconvert_exporter": "python",
   "pygments_lexer": "ipython3",
   "version": "3.8.8"
  }
 },
 "nbformat": 4,
 "nbformat_minor": 5
}
