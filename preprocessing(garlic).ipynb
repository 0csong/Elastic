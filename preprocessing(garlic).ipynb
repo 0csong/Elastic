{
 "cells": [
  {
   "cell_type": "code",
   "execution_count": 1,
   "id": "042c95a3",
   "metadata": {},
   "outputs": [],
   "source": [
    "import numpy as np\n",
    "import pandas as pd\n",
    "import os\n",
    "# Visualization\n",
    "import matplotlib.pyplot as plt\n",
    "import seaborn as sns\n",
    "import scipy.stats"
   ]
  },
  {
   "cell_type": "code",
   "execution_count": 2,
   "id": "2989280f",
   "metadata": {},
   "outputs": [
    {
     "name": "stdout",
     "output_type": "stream",
     "text": [
      "         pred    actual\n",
      "0    0.744610  0.882579\n",
      "1    0.762424  0.808903\n",
      "2    0.708067  0.817345\n",
      "3    0.745046  0.825019\n",
      "4    0.730728  1.000000\n",
      "..        ...       ...\n",
      "320  0.174289  0.230622\n",
      "321  0.202213  0.218726\n",
      "322  0.215008  0.229470\n",
      "323  0.227202  0.231005\n",
      "324  0.229871  0.219493\n",
      "\n",
      "[325 rows x 2 columns]\n"
     ]
    }
   ],
   "source": [
    "baechu =  pd.read_csv('C:/Users/nicky/Desktop/elastic/예측실제/배추(예측실제).csv',encoding='cp949')\n",
    "print(baechu)"
   ]
  },
  {
   "cell_type": "code",
   "execution_count": 3,
   "id": "29789148",
   "metadata": {},
   "outputs": [
    {
     "name": "stdout",
     "output_type": "stream",
     "text": [
      "         pred    actual\n",
      "0    0.735156  0.755303\n",
      "1    0.772896  0.716667\n",
      "2    0.726140  0.707576\n",
      "3    0.714350  0.700000\n",
      "4    0.718827  0.715152\n",
      "..        ...       ...\n",
      "320  0.146518  0.165152\n",
      "321  0.170641  0.172727\n",
      "322  0.179737  0.172727\n",
      "323  0.176915  0.171212\n",
      "324  0.173485  0.181818\n",
      "\n",
      "[325 rows x 2 columns]\n"
     ]
    }
   ],
   "source": [
    "mu =  pd.read_csv('C:/Users/nicky/Desktop/elastic/예측실제/무(예측실제).csv',encoding='cp949')\n",
    "print(mu)"
   ]
  },
  {
   "cell_type": "code",
   "execution_count": 14,
   "id": "6ee08e0c",
   "metadata": {},
   "outputs": [],
   "source": [
    "intergrate=pd.concat([baechu,mu],axis=1)"
   ]
  },
  {
   "cell_type": "code",
   "execution_count": 15,
   "id": "b934978a",
   "metadata": {},
   "outputs": [
    {
     "name": "stdout",
     "output_type": "stream",
     "text": [
      "         pred    actual      pred    actual\n",
      "0    0.744610  0.882579  0.735156  0.755303\n",
      "1    0.762424  0.808903  0.772896  0.716667\n",
      "2    0.708067  0.817345  0.726140  0.707576\n",
      "3    0.745046  0.825019  0.714350  0.700000\n",
      "4    0.730728  1.000000  0.718827  0.715152\n",
      "..        ...       ...       ...       ...\n",
      "320  0.174289  0.230622  0.146518  0.165152\n",
      "321  0.202213  0.218726  0.170641  0.172727\n",
      "322  0.215008  0.229470  0.179737  0.172727\n",
      "323  0.227202  0.231005  0.176915  0.171212\n",
      "324  0.229871  0.219493  0.173485  0.181818\n",
      "\n",
      "[325 rows x 4 columns]\n"
     ]
    }
   ],
   "source": [
    "print(intergrate)"
   ]
  },
  {
   "cell_type": "code",
   "execution_count": 240,
   "id": "feec412a",
   "metadata": {},
   "outputs": [],
   "source": [
    "# baechu =  pd.read_csv('C:/Users/nicky/Desktop/elastic/배추가격/2021배추1kg.csv',encoding='cp949')\n",
    "# print(baechu)\n",
    "# baechu=baechu.transpose()\n",
    "# print(baechu)\n",
    "# baechu.to_csv('C:/Users/nicky/Desktop/elastic/배추가격/2021baechu.csv',index = True)\n"
   ]
  },
  {
   "cell_type": "code",
   "execution_count": 35,
   "id": "f668f3e7",
   "metadata": {},
   "outputs": [
    {
     "name": "stdout",
     "output_type": "stream",
     "text": [
      "            date   price  Unnamed: 2\n",
      "0     2015-01-04   5,967         NaN\n",
      "1     2015-01-05   5,967         NaN\n",
      "2     2015-01-06   5,967         NaN\n",
      "3     2015-01-07   5,967         NaN\n",
      "4     2015-01-08   5,967         NaN\n",
      "...          ...     ...         ...\n",
      "1719  2021-12-27  10,625         NaN\n",
      "1720  2021-12-28  10,625         NaN\n",
      "1721  2021-12-29  10,625         NaN\n",
      "1722  2021-12-30  10,625         NaN\n",
      "1723  2021-12-31  10,625         NaN\n",
      "\n",
      "[1724 rows x 3 columns]\n"
     ]
    }
   ],
   "source": [
    "baechu =  pd.read_csv('C:/Users/nicky/Desktop/elastic/마늘/garlic_price.csv',encoding='cp949')\n",
    "print(baechu)"
   ]
  },
  {
   "cell_type": "code",
   "execution_count": 36,
   "id": "72327691",
   "metadata": {},
   "outputs": [
    {
     "name": "stdout",
     "output_type": "stream",
     "text": [
      "<class 'pandas.core.frame.DataFrame'>\n",
      "RangeIndex: 1724 entries, 0 to 1723\n",
      "Data columns (total 3 columns):\n",
      " #   Column      Non-Null Count  Dtype  \n",
      "---  ------      --------------  -----  \n",
      " 0   date        1724 non-null   object \n",
      " 1   price       1724 non-null   object \n",
      " 2   Unnamed: 2  0 non-null      float64\n",
      "dtypes: float64(1), object(2)\n",
      "memory usage: 40.5+ KB\n"
     ]
    }
   ],
   "source": [
    "baechu.info()"
   ]
  },
  {
   "cell_type": "code",
   "execution_count": 37,
   "id": "4a97d7ff",
   "metadata": {},
   "outputs": [],
   "source": [
    "baechu=baechu.drop(['Unnamed: 2'],axis=1)"
   ]
  },
  {
   "cell_type": "code",
   "execution_count": 38,
   "id": "fdc8368f",
   "metadata": {},
   "outputs": [
    {
     "name": "stdout",
     "output_type": "stream",
     "text": [
      "<class 'pandas.core.frame.DataFrame'>\n",
      "RangeIndex: 1724 entries, 0 to 1723\n",
      "Data columns (total 2 columns):\n",
      " #   Column  Non-Null Count  Dtype \n",
      "---  ------  --------------  ----- \n",
      " 0   date    1724 non-null   object\n",
      " 1   price   1724 non-null   object\n",
      "dtypes: object(2)\n",
      "memory usage: 27.1+ KB\n"
     ]
    }
   ],
   "source": [
    "baechu.info()"
   ]
  },
  {
   "cell_type": "code",
   "execution_count": 39,
   "id": "9b6c2749",
   "metadata": {},
   "outputs": [],
   "source": [
    "baechu[\"price\"] = baechu[\"price\"].str.replace(pat=r'[^\\w]', repl=r'', regex=True)"
   ]
  },
  {
   "cell_type": "code",
   "execution_count": 40,
   "id": "312740f6",
   "metadata": {},
   "outputs": [
    {
     "data": {
      "text/html": [
       "<div>\n",
       "<style scoped>\n",
       "    .dataframe tbody tr th:only-of-type {\n",
       "        vertical-align: middle;\n",
       "    }\n",
       "\n",
       "    .dataframe tbody tr th {\n",
       "        vertical-align: top;\n",
       "    }\n",
       "\n",
       "    .dataframe thead th {\n",
       "        text-align: right;\n",
       "    }\n",
       "</style>\n",
       "<table border=\"1\" class=\"dataframe\">\n",
       "  <thead>\n",
       "    <tr style=\"text-align: right;\">\n",
       "      <th></th>\n",
       "      <th>date</th>\n",
       "      <th>price</th>\n",
       "    </tr>\n",
       "  </thead>\n",
       "  <tbody>\n",
       "    <tr>\n",
       "      <th>0</th>\n",
       "      <td>2015-01-04</td>\n",
       "      <td>5967</td>\n",
       "    </tr>\n",
       "    <tr>\n",
       "      <th>1</th>\n",
       "      <td>2015-01-05</td>\n",
       "      <td>5967</td>\n",
       "    </tr>\n",
       "    <tr>\n",
       "      <th>2</th>\n",
       "      <td>2015-01-06</td>\n",
       "      <td>5967</td>\n",
       "    </tr>\n",
       "    <tr>\n",
       "      <th>3</th>\n",
       "      <td>2015-01-07</td>\n",
       "      <td>5967</td>\n",
       "    </tr>\n",
       "    <tr>\n",
       "      <th>4</th>\n",
       "      <td>2015-01-08</td>\n",
       "      <td>5967</td>\n",
       "    </tr>\n",
       "    <tr>\n",
       "      <th>...</th>\n",
       "      <td>...</td>\n",
       "      <td>...</td>\n",
       "    </tr>\n",
       "    <tr>\n",
       "      <th>1719</th>\n",
       "      <td>2021-12-27</td>\n",
       "      <td>10625</td>\n",
       "    </tr>\n",
       "    <tr>\n",
       "      <th>1720</th>\n",
       "      <td>2021-12-28</td>\n",
       "      <td>10625</td>\n",
       "    </tr>\n",
       "    <tr>\n",
       "      <th>1721</th>\n",
       "      <td>2021-12-29</td>\n",
       "      <td>10625</td>\n",
       "    </tr>\n",
       "    <tr>\n",
       "      <th>1722</th>\n",
       "      <td>2021-12-30</td>\n",
       "      <td>10625</td>\n",
       "    </tr>\n",
       "    <tr>\n",
       "      <th>1723</th>\n",
       "      <td>2021-12-31</td>\n",
       "      <td>10625</td>\n",
       "    </tr>\n",
       "  </tbody>\n",
       "</table>\n",
       "<p>1724 rows × 2 columns</p>\n",
       "</div>"
      ],
      "text/plain": [
       "            date  price\n",
       "0     2015-01-04   5967\n",
       "1     2015-01-05   5967\n",
       "2     2015-01-06   5967\n",
       "3     2015-01-07   5967\n",
       "4     2015-01-08   5967\n",
       "...          ...    ...\n",
       "1719  2021-12-27  10625\n",
       "1720  2021-12-28  10625\n",
       "1721  2021-12-29  10625\n",
       "1722  2021-12-30  10625\n",
       "1723  2021-12-31  10625\n",
       "\n",
       "[1724 rows x 2 columns]"
      ]
     },
     "execution_count": 40,
     "metadata": {},
     "output_type": "execute_result"
    }
   ],
   "source": [
    "baechu"
   ]
  },
  {
   "cell_type": "code",
   "execution_count": 41,
   "id": "b7fa455a",
   "metadata": {},
   "outputs": [
    {
     "name": "stdout",
     "output_type": "stream",
     "text": [
      "(2557, 2)\n",
      "<bound method NDFrame.head of             date    sun\n",
      "0     2015-01-01  10.75\n",
      "1     2015-01-02   9.96\n",
      "2     2015-01-03  10.80\n",
      "3     2015-01-04   8.16\n",
      "4     2015-01-05   7.30\n",
      "...          ...    ...\n",
      "2552  2021-12-27   9.82\n",
      "2553  2021-12-28   9.92\n",
      "2554  2021-12-29   5.65\n",
      "2555  2021-12-30  10.55\n",
      "2556  2021-12-31  11.26\n",
      "\n",
      "[2557 rows x 2 columns]>\n"
     ]
    }
   ],
   "source": [
    "ondo =  pd.read_csv('C:/Users/nicky/Desktop/elastic/마늘/일사량.csv',encoding='utf-8')\n",
    "print(ondo.shape)\n",
    "print(ondo.head)"
   ]
  },
  {
   "cell_type": "code",
   "execution_count": 42,
   "id": "0b3b13e6",
   "metadata": {},
   "outputs": [],
   "source": [
    "df = pd.merge(left = ondo , right = baechu, how = \"inner\", on = \"date\")"
   ]
  },
  {
   "cell_type": "code",
   "execution_count": 43,
   "id": "eaa9a038",
   "metadata": {},
   "outputs": [
    {
     "data": {
      "text/html": [
       "<div>\n",
       "<style scoped>\n",
       "    .dataframe tbody tr th:only-of-type {\n",
       "        vertical-align: middle;\n",
       "    }\n",
       "\n",
       "    .dataframe tbody tr th {\n",
       "        vertical-align: top;\n",
       "    }\n",
       "\n",
       "    .dataframe thead th {\n",
       "        text-align: right;\n",
       "    }\n",
       "</style>\n",
       "<table border=\"1\" class=\"dataframe\">\n",
       "  <thead>\n",
       "    <tr style=\"text-align: right;\">\n",
       "      <th></th>\n",
       "      <th>date</th>\n",
       "      <th>sun</th>\n",
       "      <th>price</th>\n",
       "    </tr>\n",
       "  </thead>\n",
       "  <tbody>\n",
       "    <tr>\n",
       "      <th>0</th>\n",
       "      <td>2015-01-04</td>\n",
       "      <td>8.16</td>\n",
       "      <td>5967</td>\n",
       "    </tr>\n",
       "    <tr>\n",
       "      <th>1</th>\n",
       "      <td>2015-01-05</td>\n",
       "      <td>7.30</td>\n",
       "      <td>5967</td>\n",
       "    </tr>\n",
       "    <tr>\n",
       "      <th>2</th>\n",
       "      <td>2015-01-06</td>\n",
       "      <td>10.72</td>\n",
       "      <td>5967</td>\n",
       "    </tr>\n",
       "    <tr>\n",
       "      <th>3</th>\n",
       "      <td>2015-01-07</td>\n",
       "      <td>11.34</td>\n",
       "      <td>5967</td>\n",
       "    </tr>\n",
       "    <tr>\n",
       "      <th>4</th>\n",
       "      <td>2015-01-08</td>\n",
       "      <td>11.84</td>\n",
       "      <td>5967</td>\n",
       "    </tr>\n",
       "    <tr>\n",
       "      <th>...</th>\n",
       "      <td>...</td>\n",
       "      <td>...</td>\n",
       "      <td>...</td>\n",
       "    </tr>\n",
       "    <tr>\n",
       "      <th>1719</th>\n",
       "      <td>2021-12-27</td>\n",
       "      <td>9.82</td>\n",
       "      <td>10625</td>\n",
       "    </tr>\n",
       "    <tr>\n",
       "      <th>1720</th>\n",
       "      <td>2021-12-28</td>\n",
       "      <td>9.92</td>\n",
       "      <td>10625</td>\n",
       "    </tr>\n",
       "    <tr>\n",
       "      <th>1721</th>\n",
       "      <td>2021-12-29</td>\n",
       "      <td>5.65</td>\n",
       "      <td>10625</td>\n",
       "    </tr>\n",
       "    <tr>\n",
       "      <th>1722</th>\n",
       "      <td>2021-12-30</td>\n",
       "      <td>10.55</td>\n",
       "      <td>10625</td>\n",
       "    </tr>\n",
       "    <tr>\n",
       "      <th>1723</th>\n",
       "      <td>2021-12-31</td>\n",
       "      <td>11.26</td>\n",
       "      <td>10625</td>\n",
       "    </tr>\n",
       "  </tbody>\n",
       "</table>\n",
       "<p>1724 rows × 3 columns</p>\n",
       "</div>"
      ],
      "text/plain": [
       "            date    sun  price\n",
       "0     2015-01-04   8.16   5967\n",
       "1     2015-01-05   7.30   5967\n",
       "2     2015-01-06  10.72   5967\n",
       "3     2015-01-07  11.34   5967\n",
       "4     2015-01-08  11.84   5967\n",
       "...          ...    ...    ...\n",
       "1719  2021-12-27   9.82  10625\n",
       "1720  2021-12-28   9.92  10625\n",
       "1721  2021-12-29   5.65  10625\n",
       "1722  2021-12-30  10.55  10625\n",
       "1723  2021-12-31  11.26  10625\n",
       "\n",
       "[1724 rows x 3 columns]"
      ]
     },
     "execution_count": 43,
     "metadata": {},
     "output_type": "execute_result"
    }
   ],
   "source": [
    "df"
   ]
  },
  {
   "cell_type": "code",
   "execution_count": 45,
   "id": "0c6198ce",
   "metadata": {},
   "outputs": [],
   "source": [
    "df['price']=df['price'].astype(float)"
   ]
  },
  {
   "cell_type": "code",
   "execution_count": 46,
   "id": "51f7a707",
   "metadata": {},
   "outputs": [
    {
     "data": {
      "text/html": [
       "<div>\n",
       "<style scoped>\n",
       "    .dataframe tbody tr th:only-of-type {\n",
       "        vertical-align: middle;\n",
       "    }\n",
       "\n",
       "    .dataframe tbody tr th {\n",
       "        vertical-align: top;\n",
       "    }\n",
       "\n",
       "    .dataframe thead th {\n",
       "        text-align: right;\n",
       "    }\n",
       "</style>\n",
       "<table border=\"1\" class=\"dataframe\">\n",
       "  <thead>\n",
       "    <tr style=\"text-align: right;\">\n",
       "      <th></th>\n",
       "      <th>date</th>\n",
       "      <th>sun</th>\n",
       "      <th>price</th>\n",
       "    </tr>\n",
       "  </thead>\n",
       "  <tbody>\n",
       "    <tr>\n",
       "      <th>0</th>\n",
       "      <td>2015-01-04</td>\n",
       "      <td>8.16</td>\n",
       "      <td>5967.0</td>\n",
       "    </tr>\n",
       "    <tr>\n",
       "      <th>1</th>\n",
       "      <td>2015-01-05</td>\n",
       "      <td>7.30</td>\n",
       "      <td>5967.0</td>\n",
       "    </tr>\n",
       "    <tr>\n",
       "      <th>2</th>\n",
       "      <td>2015-01-06</td>\n",
       "      <td>10.72</td>\n",
       "      <td>5967.0</td>\n",
       "    </tr>\n",
       "    <tr>\n",
       "      <th>3</th>\n",
       "      <td>2015-01-07</td>\n",
       "      <td>11.34</td>\n",
       "      <td>5967.0</td>\n",
       "    </tr>\n",
       "    <tr>\n",
       "      <th>4</th>\n",
       "      <td>2015-01-08</td>\n",
       "      <td>11.84</td>\n",
       "      <td>5967.0</td>\n",
       "    </tr>\n",
       "    <tr>\n",
       "      <th>...</th>\n",
       "      <td>...</td>\n",
       "      <td>...</td>\n",
       "      <td>...</td>\n",
       "    </tr>\n",
       "    <tr>\n",
       "      <th>1719</th>\n",
       "      <td>2021-12-27</td>\n",
       "      <td>9.82</td>\n",
       "      <td>10625.0</td>\n",
       "    </tr>\n",
       "    <tr>\n",
       "      <th>1720</th>\n",
       "      <td>2021-12-28</td>\n",
       "      <td>9.92</td>\n",
       "      <td>10625.0</td>\n",
       "    </tr>\n",
       "    <tr>\n",
       "      <th>1721</th>\n",
       "      <td>2021-12-29</td>\n",
       "      <td>5.65</td>\n",
       "      <td>10625.0</td>\n",
       "    </tr>\n",
       "    <tr>\n",
       "      <th>1722</th>\n",
       "      <td>2021-12-30</td>\n",
       "      <td>10.55</td>\n",
       "      <td>10625.0</td>\n",
       "    </tr>\n",
       "    <tr>\n",
       "      <th>1723</th>\n",
       "      <td>2021-12-31</td>\n",
       "      <td>11.26</td>\n",
       "      <td>10625.0</td>\n",
       "    </tr>\n",
       "  </tbody>\n",
       "</table>\n",
       "<p>1724 rows × 3 columns</p>\n",
       "</div>"
      ],
      "text/plain": [
       "            date    sun    price\n",
       "0     2015-01-04   8.16   5967.0\n",
       "1     2015-01-05   7.30   5967.0\n",
       "2     2015-01-06  10.72   5967.0\n",
       "3     2015-01-07  11.34   5967.0\n",
       "4     2015-01-08  11.84   5967.0\n",
       "...          ...    ...      ...\n",
       "1719  2021-12-27   9.82  10625.0\n",
       "1720  2021-12-28   9.92  10625.0\n",
       "1721  2021-12-29   5.65  10625.0\n",
       "1722  2021-12-30  10.55  10625.0\n",
       "1723  2021-12-31  11.26  10625.0\n",
       "\n",
       "[1724 rows x 3 columns]"
      ]
     },
     "execution_count": 46,
     "metadata": {},
     "output_type": "execute_result"
    }
   ],
   "source": [
    "df"
   ]
  },
  {
   "cell_type": "code",
   "execution_count": 47,
   "id": "addc09ef",
   "metadata": {},
   "outputs": [],
   "source": [
    "df.to_csv('./마늘/sunintegrated.csv', index=False)"
   ]
  },
  {
   "cell_type": "code",
   "execution_count": null,
   "id": "128d67c9",
   "metadata": {},
   "outputs": [],
   "source": []
  }
 ],
 "metadata": {
  "kernelspec": {
   "display_name": "bigdata",
   "language": "python",
   "name": "bigdata"
  },
  "language_info": {
   "codemirror_mode": {
    "name": "ipython",
    "version": 3
   },
   "file_extension": ".py",
   "mimetype": "text/x-python",
   "name": "python",
   "nbconvert_exporter": "python",
   "pygments_lexer": "ipython3",
   "version": "3.8.8"
  }
 },
 "nbformat": 4,
 "nbformat_minor": 5
}
