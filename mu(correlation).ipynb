{
 "cells": [
  {
   "cell_type": "code",
   "execution_count": 11,
   "id": "00de3227",
   "metadata": {},
   "outputs": [],
   "source": [
    "import numpy as np\n",
    "import pandas as pd\n",
    "import os\n",
    "# Visualization\n",
    "import matplotlib.pyplot as plt\n",
    "import seaborn as sns\n",
    "import scipy.stats\n",
    "from sklearn.preprocessing import MinMaxScaler,StandardScaler"
   ]
  },
  {
   "cell_type": "code",
   "execution_count": 12,
   "id": "3d313fb8",
   "metadata": {},
   "outputs": [
    {
     "data": {
      "text/html": [
       "<div>\n",
       "<style scoped>\n",
       "    .dataframe tbody tr th:only-of-type {\n",
       "        vertical-align: middle;\n",
       "    }\n",
       "\n",
       "    .dataframe tbody tr th {\n",
       "        vertical-align: top;\n",
       "    }\n",
       "\n",
       "    .dataframe thead th {\n",
       "        text-align: right;\n",
       "    }\n",
       "</style>\n",
       "<table border=\"1\" class=\"dataframe\">\n",
       "  <thead>\n",
       "    <tr style=\"text-align: right;\">\n",
       "      <th></th>\n",
       "      <th>date</th>\n",
       "      <th>gangsu</th>\n",
       "      <th>price</th>\n",
       "    </tr>\n",
       "  </thead>\n",
       "  <tbody>\n",
       "    <tr>\n",
       "      <th>0</th>\n",
       "      <td>2015-01-02</td>\n",
       "      <td>0.8</td>\n",
       "      <td>445</td>\n",
       "    </tr>\n",
       "    <tr>\n",
       "      <th>1</th>\n",
       "      <td>2015-01-05</td>\n",
       "      <td>9.8</td>\n",
       "      <td>450</td>\n",
       "    </tr>\n",
       "    <tr>\n",
       "      <th>2</th>\n",
       "      <td>2015-01-06</td>\n",
       "      <td>5.1</td>\n",
       "      <td>450</td>\n",
       "    </tr>\n",
       "    <tr>\n",
       "      <th>3</th>\n",
       "      <td>2015-01-07</td>\n",
       "      <td>0.0</td>\n",
       "      <td>450</td>\n",
       "    </tr>\n",
       "    <tr>\n",
       "      <th>4</th>\n",
       "      <td>2015-01-08</td>\n",
       "      <td>0.0</td>\n",
       "      <td>450</td>\n",
       "    </tr>\n",
       "  </tbody>\n",
       "</table>\n",
       "</div>"
      ],
      "text/plain": [
       "         date  gangsu  price\n",
       "0  2015-01-02     0.8    445\n",
       "1  2015-01-05     9.8    450\n",
       "2  2015-01-06     5.1    450\n",
       "3  2015-01-07     0.0    450\n",
       "4  2015-01-08     0.0    450"
      ]
     },
     "execution_count": 12,
     "metadata": {},
     "output_type": "execute_result"
    }
   ],
   "source": [
    "df= pd.read_csv('C:/Users/nicky/Desktop/elastic/무가격/inter강수량/gangsuintegrated.csv',encoding='cp949')\n",
    "df = df.fillna(0)  \n",
    "df.head()"
   ]
  },
  {
   "cell_type": "code",
   "execution_count": 13,
   "id": "cb779a13",
   "metadata": {},
   "outputs": [],
   "source": [
    "df.to_csv('./무가격/mu(fill).csv', index=False)"
   ]
  },
  {
   "cell_type": "code",
   "execution_count": 3,
   "id": "448faeb4",
   "metadata": {},
   "outputs": [],
   "source": [
    "df['price']=df['price'].astype(float)"
   ]
  },
  {
   "cell_type": "code",
   "execution_count": 4,
   "id": "1d31def5",
   "metadata": {},
   "outputs": [
    {
     "name": "stdout",
     "output_type": "stream",
     "text": [
      "강수량 상관관계: (0.0868637869522729, 0.0003076275409895238)\n"
     ]
    }
   ],
   "source": [
    "x=df['gangsu']\n",
    "y=df['price']\n",
    "import scipy.stats as stats\n",
    "print('강수량 상관관계:',stats.pearsonr(x,y))"
   ]
  },
  {
   "cell_type": "code",
   "execution_count": 7,
   "id": "a95a1692",
   "metadata": {},
   "outputs": [
    {
     "data": {
      "text/html": [
       "<div>\n",
       "<style scoped>\n",
       "    .dataframe tbody tr th:only-of-type {\n",
       "        vertical-align: middle;\n",
       "    }\n",
       "\n",
       "    .dataframe tbody tr th {\n",
       "        vertical-align: top;\n",
       "    }\n",
       "\n",
       "    .dataframe thead th {\n",
       "        text-align: right;\n",
       "    }\n",
       "</style>\n",
       "<table border=\"1\" class=\"dataframe\">\n",
       "  <thead>\n",
       "    <tr style=\"text-align: right;\">\n",
       "      <th></th>\n",
       "      <th>date</th>\n",
       "      <th>income</th>\n",
       "      <th>price</th>\n",
       "    </tr>\n",
       "  </thead>\n",
       "  <tbody>\n",
       "    <tr>\n",
       "      <th>0</th>\n",
       "      <td>2015.0</td>\n",
       "      <td>714912700.0</td>\n",
       "      <td>1986.0</td>\n",
       "    </tr>\n",
       "    <tr>\n",
       "      <th>1</th>\n",
       "      <td>2016.0</td>\n",
       "      <td>756909010.0</td>\n",
       "      <td>1747.0</td>\n",
       "    </tr>\n",
       "    <tr>\n",
       "      <th>2</th>\n",
       "      <td>2017.0</td>\n",
       "      <td>632338300.0</td>\n",
       "      <td>1678.0</td>\n",
       "    </tr>\n",
       "    <tr>\n",
       "      <th>3</th>\n",
       "      <td>2018.0</td>\n",
       "      <td>411250580.0</td>\n",
       "      <td>2271.0</td>\n",
       "    </tr>\n",
       "    <tr>\n",
       "      <th>4</th>\n",
       "      <td>2019.0</td>\n",
       "      <td>626124650.0</td>\n",
       "      <td>2432.0</td>\n",
       "    </tr>\n",
       "  </tbody>\n",
       "</table>\n",
       "</div>"
      ],
      "text/plain": [
       "     date       income   price\n",
       "0  2015.0  714912700.0  1986.0\n",
       "1  2016.0  756909010.0  1747.0\n",
       "2  2017.0  632338300.0  1678.0\n",
       "3  2018.0  411250580.0  2271.0\n",
       "4  2019.0  626124650.0  2432.0"
      ]
     },
     "execution_count": 7,
     "metadata": {},
     "output_type": "execute_result"
    }
   ],
   "source": [
    "df1= pd.read_csv('C:/Users/nicky/Desktop/elastic/무가격/inter수입량/incomeintegrated.csv',encoding='cp949')\n",
    "df1[\"income\"] = df1[\"income\"].str.replace(pat=r'[^\\w]', repl=r'', regex=True)\n",
    "df1[\"price\"] = df1[\"price\"].str.replace(pat=r'[^\\w]', repl=r'', regex=True)\n",
    "df1['price']=df1['price'].astype(float)\n",
    "df1['income']=df1['income'].astype(float)\n",
    "df1.head()"
   ]
  },
  {
   "cell_type": "code",
   "execution_count": 8,
   "id": "3b330945",
   "metadata": {},
   "outputs": [
    {
     "name": "stdout",
     "output_type": "stream",
     "text": [
      "수입량 상관계수: (0.3698232531676653, 0.4142068052850946)\n"
     ]
    }
   ],
   "source": [
    "df1 = df1.fillna(0)\n",
    "df1['price']=df1['price'].astype(float)\n",
    "x=df1['income']\n",
    "y=df1['price']\n",
    "import scipy.stats as stats\n",
    "print('수입량 상관계수:',stats.pearsonr(x,y))"
   ]
  },
  {
   "cell_type": "code",
   "execution_count": 8,
   "id": "41a3c076",
   "metadata": {},
   "outputs": [
    {
     "name": "stdout",
     "output_type": "stream",
     "text": [
      "<class 'pandas.core.frame.DataFrame'>\n",
      "RangeIndex: 1722 entries, 0 to 1721\n",
      "Data columns (total 3 columns):\n",
      " #   Column  Non-Null Count  Dtype  \n",
      "---  ------  --------------  -----  \n",
      " 0   date    1722 non-null   object \n",
      " 1   ondo    1722 non-null   float64\n",
      " 2   price   1722 non-null   int64  \n",
      "dtypes: float64(1), int64(1), object(1)\n",
      "memory usage: 40.5+ KB\n"
     ]
    }
   ],
   "source": [
    "df2= pd.read_csv('C:/Users/nicky/Desktop/elastic/무가격/inter기온/ondointegrated.csv',encoding='cp949')\n",
    "df2 = df2.fillna(0)   \n",
    "df2.info()"
   ]
  },
  {
   "cell_type": "code",
   "execution_count": 11,
   "id": "e00d5154",
   "metadata": {},
   "outputs": [
    {
     "name": "stdout",
     "output_type": "stream",
     "text": [
      "온도 상관계수: (0.16009965975392026, 2.357448867143817e-11)\n"
     ]
    }
   ],
   "source": [
    "df2['price']=df2['price'].astype(float)\n",
    "x=df2['ondo']\n",
    "y=df2['price']\n",
    "import scipy.stats as stats\n",
    "print('온도 상관계수:',stats.pearsonr(x,y))"
   ]
  },
  {
   "cell_type": "code",
   "execution_count": 12,
   "id": "f4c20c44",
   "metadata": {},
   "outputs": [
    {
     "name": "stdout",
     "output_type": "stream",
     "text": [
      "<class 'pandas.core.frame.DataFrame'>\n",
      "RangeIndex: 1722 entries, 0 to 1721\n",
      "Data columns (total 3 columns):\n",
      " #   Column  Non-Null Count  Dtype  \n",
      "---  ------  --------------  -----  \n",
      " 0   date    1722 non-null   object \n",
      " 1   uga     1722 non-null   float64\n",
      " 2   price   1722 non-null   int64  \n",
      "dtypes: float64(1), int64(1), object(1)\n",
      "memory usage: 40.5+ KB\n"
     ]
    }
   ],
   "source": [
    "df2= pd.read_csv('C:/Users/nicky/Desktop/elastic/무가격/inter유가/ugaintegrated.csv',encoding='cp949')\n",
    "df2 = df2.fillna(0)   \n",
    "df2.info()"
   ]
  },
  {
   "cell_type": "code",
   "execution_count": 13,
   "id": "252f1dcd",
   "metadata": {},
   "outputs": [
    {
     "name": "stdout",
     "output_type": "stream",
     "text": [
      "유가 상관계수: (0.018321468997919074, 0.4473756547571312)\n"
     ]
    }
   ],
   "source": [
    "df2['price']=df2['price'].astype(float)\n",
    "x=df2['uga']\n",
    "y=df2['price']\n",
    "import scipy.stats as stats\n",
    "print('유가 상관계수:',stats.pearsonr(x,y))"
   ]
  },
  {
   "cell_type": "code",
   "execution_count": 14,
   "id": "68bc5533",
   "metadata": {},
   "outputs": [
    {
     "name": "stdout",
     "output_type": "stream",
     "text": [
      "<class 'pandas.core.frame.DataFrame'>\n",
      "RangeIndex: 1721 entries, 0 to 1720\n",
      "Data columns (total 3 columns):\n",
      " #   Column  Non-Null Count  Dtype  \n",
      "---  ------  --------------  -----  \n",
      " 0   date    1721 non-null   object \n",
      " 1   sun     1721 non-null   float64\n",
      " 2   price   1721 non-null   int64  \n",
      "dtypes: float64(1), int64(1), object(1)\n",
      "memory usage: 40.5+ KB\n"
     ]
    }
   ],
   "source": [
    "df2= pd.read_csv('C:/Users/nicky/Desktop/elastic/무가격/inter일사량/sunintegrated.csv',encoding='cp949')\n",
    "df2 = df2.fillna(0)   \n",
    "df2.info()"
   ]
  },
  {
   "cell_type": "code",
   "execution_count": 16,
   "id": "9fb47662",
   "metadata": {},
   "outputs": [
    {
     "name": "stdout",
     "output_type": "stream",
     "text": [
      "일사량 상관계수: (-0.006698460766893885, 0.7812530733186661)\n"
     ]
    }
   ],
   "source": [
    "df2['price']=df2['price'].astype(float)\n",
    "x=df2['sun']\n",
    "y=df2['price']\n",
    "import scipy.stats as stats\n",
    "print('일사량 상관계수:',stats.pearsonr(x,y))"
   ]
  },
  {
   "cell_type": "code",
   "execution_count": 8,
   "id": "14b5d6ae",
   "metadata": {},
   "outputs": [
    {
     "name": "stdout",
     "output_type": "stream",
     "text": [
      "<class 'pandas.core.frame.DataFrame'>\n",
      "RangeIndex: 1722 entries, 0 to 1721\n",
      "Data columns (total 3 columns):\n",
      " #   Column  Non-Null Count  Dtype  \n",
      "---  ------  --------------  -----  \n",
      " 0   date    1722 non-null   object \n",
      " 1   snow    1722 non-null   float64\n",
      " 2   price   1722 non-null   int64  \n",
      "dtypes: float64(1), int64(1), object(1)\n",
      "memory usage: 40.5+ KB\n"
     ]
    }
   ],
   "source": [
    "df2= pd.read_csv('C:/Users/nicky/Desktop/elastic/무가격/inter적설량/snowintegrated.csv',encoding='cp949')\n",
    "df2 = df2.fillna(0)   \n",
    "df2.info()"
   ]
  },
  {
   "cell_type": "code",
   "execution_count": 9,
   "id": "3d556cd8",
   "metadata": {},
   "outputs": [
    {
     "name": "stdout",
     "output_type": "stream",
     "text": [
      "적설량 상관계수: (-0.04902073390476892, 0.04195577946063255)\n"
     ]
    }
   ],
   "source": [
    "df2['price']=df2['price'].astype(float)\n",
    "x=df2['snow']\n",
    "y=df2['price']\n",
    "import scipy.stats as stats\n",
    "print('적설량 상관계수:',stats.pearsonr(x,y))"
   ]
  }
 ],
 "metadata": {
  "kernelspec": {
   "display_name": "bigdata",
   "language": "python",
   "name": "bigdata"
  },
  "language_info": {
   "codemirror_mode": {
    "name": "ipython",
    "version": 3
   },
   "file_extension": ".py",
   "mimetype": "text/x-python",
   "name": "python",
   "nbconvert_exporter": "python",
   "pygments_lexer": "ipython3",
   "version": "3.8.8"
  }
 },
 "nbformat": 4,
 "nbformat_minor": 5
}
