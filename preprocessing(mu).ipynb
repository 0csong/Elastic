{
 "cells": [
  {
   "cell_type": "code",
   "execution_count": 1,
   "id": "042c95a3",
   "metadata": {},
   "outputs": [],
   "source": [
    "import numpy as np\n",
    "import pandas as pd\n",
    "import os\n",
    "# Visualization\n",
    "import matplotlib.pyplot as plt\n",
    "import seaborn as sns\n",
    "import scipy.stats"
   ]
  },
  {
   "cell_type": "code",
   "execution_count": 36,
   "id": "feec412a",
   "metadata": {},
   "outputs": [],
   "source": [
    "# baechu =  pd.read_csv('C:/Users/nicky/Desktop/elastic/무가격/2021무가격.csv',encoding='utf-8')\n",
    "# print(baechu)\n",
    "# baechu=baechu.transpose()\n",
    "# print(baechu)\n",
    "# baechu.to_csv('C:/Users/nicky/Desktop/elastic/무가격/2021mu.csv',index = True)\n"
   ]
  },
  {
   "cell_type": "code",
   "execution_count": 361,
   "id": "f668f3e7",
   "metadata": {},
   "outputs": [
    {
     "name": "stdout",
     "output_type": "stream",
     "text": [
      "          구분   평균\n",
      "0    01월 04일  755\n",
      "1    01월 05일  795\n",
      "2    01월 06일  829\n",
      "3    01월 07일  811\n",
      "4    01월 08일  751\n",
      "..       ...  ...\n",
      "243  12월 27일  568\n",
      "244  12월 28일  578\n",
      "245  12월 29일  578\n",
      "246  12월 30일  576\n",
      "247  12월 31일  590\n",
      "\n",
      "[248 rows x 2 columns]\n",
      "<class 'pandas.core.frame.DataFrame'>\n",
      "RangeIndex: 248 entries, 0 to 247\n",
      "Data columns (total 2 columns):\n",
      " #   Column  Non-Null Count  Dtype \n",
      "---  ------  --------------  ----- \n",
      " 0   구분      248 non-null    object\n",
      " 1   평균      248 non-null    int64 \n",
      "dtypes: int64(1), object(1)\n",
      "memory usage: 4.0+ KB\n"
     ]
    }
   ],
   "source": [
    "baechu = pd.read_csv('C:/Users/nicky/Desktop/elastic/무가격/2021mu.csv',encoding='cp949')\n",
    "print(baechu)\n",
    "baechu.info()"
   ]
  },
  {
   "cell_type": "code",
   "execution_count": 362,
   "id": "fb2caaf4",
   "metadata": {},
   "outputs": [
    {
     "data": {
      "text/html": [
       "<div>\n",
       "<style scoped>\n",
       "    .dataframe tbody tr th:only-of-type {\n",
       "        vertical-align: middle;\n",
       "    }\n",
       "\n",
       "    .dataframe tbody tr th {\n",
       "        vertical-align: top;\n",
       "    }\n",
       "\n",
       "    .dataframe thead th {\n",
       "        text-align: right;\n",
       "    }\n",
       "</style>\n",
       "<table border=\"1\" class=\"dataframe\">\n",
       "  <thead>\n",
       "    <tr style=\"text-align: right;\">\n",
       "      <th></th>\n",
       "      <th>평균</th>\n",
       "      <th>date</th>\n",
       "    </tr>\n",
       "  </thead>\n",
       "  <tbody>\n",
       "    <tr>\n",
       "      <th>0</th>\n",
       "      <td>755</td>\n",
       "      <td>2021-01-04</td>\n",
       "    </tr>\n",
       "    <tr>\n",
       "      <th>1</th>\n",
       "      <td>795</td>\n",
       "      <td>2021-01-05</td>\n",
       "    </tr>\n",
       "    <tr>\n",
       "      <th>2</th>\n",
       "      <td>829</td>\n",
       "      <td>2021-01-06</td>\n",
       "    </tr>\n",
       "    <tr>\n",
       "      <th>3</th>\n",
       "      <td>811</td>\n",
       "      <td>2021-01-07</td>\n",
       "    </tr>\n",
       "    <tr>\n",
       "      <th>4</th>\n",
       "      <td>751</td>\n",
       "      <td>2021-01-08</td>\n",
       "    </tr>\n",
       "    <tr>\n",
       "      <th>...</th>\n",
       "      <td>...</td>\n",
       "      <td>...</td>\n",
       "    </tr>\n",
       "    <tr>\n",
       "      <th>243</th>\n",
       "      <td>568</td>\n",
       "      <td>2021-12-27</td>\n",
       "    </tr>\n",
       "    <tr>\n",
       "      <th>244</th>\n",
       "      <td>578</td>\n",
       "      <td>2021-12-28</td>\n",
       "    </tr>\n",
       "    <tr>\n",
       "      <th>245</th>\n",
       "      <td>578</td>\n",
       "      <td>2021-12-29</td>\n",
       "    </tr>\n",
       "    <tr>\n",
       "      <th>246</th>\n",
       "      <td>576</td>\n",
       "      <td>2021-12-30</td>\n",
       "    </tr>\n",
       "    <tr>\n",
       "      <th>247</th>\n",
       "      <td>590</td>\n",
       "      <td>2021-12-31</td>\n",
       "    </tr>\n",
       "  </tbody>\n",
       "</table>\n",
       "<p>248 rows × 2 columns</p>\n",
       "</div>"
      ],
      "text/plain": [
       "      평균        date\n",
       "0    755  2021-01-04\n",
       "1    795  2021-01-05\n",
       "2    829  2021-01-06\n",
       "3    811  2021-01-07\n",
       "4    751  2021-01-08\n",
       "..   ...         ...\n",
       "243  568  2021-12-27\n",
       "244  578  2021-12-28\n",
       "245  578  2021-12-29\n",
       "246  576  2021-12-30\n",
       "247  590  2021-12-31\n",
       "\n",
       "[248 rows x 2 columns]"
      ]
     },
     "execution_count": 362,
     "metadata": {},
     "output_type": "execute_result"
    }
   ],
   "source": [
    "month = baechu['구분'].apply(lambda x:x[:2])\n",
    "day = baechu['구분'].apply(lambda x:x[4:6])\n",
    "baechu['date'] = '2021-' + month + '-' + day\n",
    "baechu.pop('구분')\n",
    "baechu"
   ]
  },
  {
   "cell_type": "code",
   "execution_count": 364,
   "id": "d5b1122b",
   "metadata": {},
   "outputs": [
    {
     "name": "stdout",
     "output_type": "stream",
     "text": [
      "<class 'pandas.core.frame.DataFrame'>\n",
      "RangeIndex: 248 entries, 0 to 247\n",
      "Data columns (total 2 columns):\n",
      " #   Column  Non-Null Count  Dtype \n",
      "---  ------  --------------  ----- \n",
      " 0   price   248 non-null    int64 \n",
      " 1   date    248 non-null    object\n",
      "dtypes: int64(1), object(1)\n",
      "memory usage: 4.0+ KB\n"
     ]
    }
   ],
   "source": [
    "baechu.columns = ['price', 'date']\n",
    "# baechu[\"price\"] = baechu[\"price\"].str.replace(pat=r'[^\\w]', repl=r'', regex=True)\n",
    "baechu.info()"
   ]
  },
  {
   "cell_type": "code",
   "execution_count": 365,
   "id": "b7fa455a",
   "metadata": {},
   "outputs": [
    {
     "name": "stdout",
     "output_type": "stream",
     "text": [
      "(365, 3)\n",
      "<bound method NDFrame.head of     place        date     uga\n",
      "0     두바이  2021-01-01  52.490\n",
      "1     두바이  2021-01-02  52.100\n",
      "2     두바이  2021-01-03  51.495\n",
      "3     두바이  2021-01-04  52.490\n",
      "4     두바이  2021-01-05  50.500\n",
      "..    ...         ...     ...\n",
      "360   두바이  2021-12-27  76.120\n",
      "361   두바이  2021-12-28  76.470\n",
      "362   두바이  2021-12-29  76.910\n",
      "363   두바이  2021-12-30  77.240\n",
      "364   두바이  2021-12-31  77.120\n",
      "\n",
      "[365 rows x 3 columns]>\n"
     ]
    }
   ],
   "source": [
    "ondo =  pd.read_csv('C:/Users/nicky/Desktop/elastic/유가/muga_2021.csv',encoding='cp949')\n",
    "print(ondo.shape)\n",
    "print(ondo.head)"
   ]
  },
  {
   "cell_type": "code",
   "execution_count": 366,
   "id": "e6583d8b",
   "metadata": {},
   "outputs": [
    {
     "name": "stdout",
     "output_type": "stream",
     "text": [
      "<class 'pandas.core.frame.DataFrame'>\n",
      "RangeIndex: 365 entries, 0 to 364\n",
      "Data columns (total 3 columns):\n",
      " #   Column  Non-Null Count  Dtype  \n",
      "---  ------  --------------  -----  \n",
      " 0   place   365 non-null    object \n",
      " 1   date    365 non-null    object \n",
      " 2   uga     365 non-null    float64\n",
      "dtypes: float64(1), object(2)\n",
      "memory usage: 8.7+ KB\n"
     ]
    }
   ],
   "source": [
    "# ondo.columns=['place','name','date','sun']\n",
    "ondo.info()"
   ]
  },
  {
   "cell_type": "code",
   "execution_count": 367,
   "id": "0b3b13e6",
   "metadata": {},
   "outputs": [
    {
     "data": {
      "text/html": [
       "<div>\n",
       "<style scoped>\n",
       "    .dataframe tbody tr th:only-of-type {\n",
       "        vertical-align: middle;\n",
       "    }\n",
       "\n",
       "    .dataframe tbody tr th {\n",
       "        vertical-align: top;\n",
       "    }\n",
       "\n",
       "    .dataframe thead th {\n",
       "        text-align: right;\n",
       "    }\n",
       "</style>\n",
       "<table border=\"1\" class=\"dataframe\">\n",
       "  <thead>\n",
       "    <tr style=\"text-align: right;\">\n",
       "      <th></th>\n",
       "      <th>date</th>\n",
       "      <th>uga</th>\n",
       "      <th>price</th>\n",
       "    </tr>\n",
       "  </thead>\n",
       "  <tbody>\n",
       "    <tr>\n",
       "      <th>0</th>\n",
       "      <td>2021-01-04</td>\n",
       "      <td>52.49</td>\n",
       "      <td>755</td>\n",
       "    </tr>\n",
       "    <tr>\n",
       "      <th>1</th>\n",
       "      <td>2021-01-05</td>\n",
       "      <td>50.50</td>\n",
       "      <td>795</td>\n",
       "    </tr>\n",
       "    <tr>\n",
       "      <th>2</th>\n",
       "      <td>2021-01-06</td>\n",
       "      <td>53.51</td>\n",
       "      <td>829</td>\n",
       "    </tr>\n",
       "    <tr>\n",
       "      <th>3</th>\n",
       "      <td>2021-01-07</td>\n",
       "      <td>54.52</td>\n",
       "      <td>811</td>\n",
       "    </tr>\n",
       "    <tr>\n",
       "      <th>4</th>\n",
       "      <td>2021-01-08</td>\n",
       "      <td>54.58</td>\n",
       "      <td>751</td>\n",
       "    </tr>\n",
       "    <tr>\n",
       "      <th>...</th>\n",
       "      <td>...</td>\n",
       "      <td>...</td>\n",
       "      <td>...</td>\n",
       "    </tr>\n",
       "    <tr>\n",
       "      <th>243</th>\n",
       "      <td>2021-12-27</td>\n",
       "      <td>76.12</td>\n",
       "      <td>568</td>\n",
       "    </tr>\n",
       "    <tr>\n",
       "      <th>244</th>\n",
       "      <td>2021-12-28</td>\n",
       "      <td>76.47</td>\n",
       "      <td>578</td>\n",
       "    </tr>\n",
       "    <tr>\n",
       "      <th>245</th>\n",
       "      <td>2021-12-29</td>\n",
       "      <td>76.91</td>\n",
       "      <td>578</td>\n",
       "    </tr>\n",
       "    <tr>\n",
       "      <th>246</th>\n",
       "      <td>2021-12-30</td>\n",
       "      <td>77.24</td>\n",
       "      <td>576</td>\n",
       "    </tr>\n",
       "    <tr>\n",
       "      <th>247</th>\n",
       "      <td>2021-12-31</td>\n",
       "      <td>77.12</td>\n",
       "      <td>590</td>\n",
       "    </tr>\n",
       "  </tbody>\n",
       "</table>\n",
       "<p>248 rows × 3 columns</p>\n",
       "</div>"
      ],
      "text/plain": [
       "           date    uga  price\n",
       "0    2021-01-04  52.49    755\n",
       "1    2021-01-05  50.50    795\n",
       "2    2021-01-06  53.51    829\n",
       "3    2021-01-07  54.52    811\n",
       "4    2021-01-08  54.58    751\n",
       "..          ...    ...    ...\n",
       "243  2021-12-27  76.12    568\n",
       "244  2021-12-28  76.47    578\n",
       "245  2021-12-29  76.91    578\n",
       "246  2021-12-30  77.24    576\n",
       "247  2021-12-31  77.12    590\n",
       "\n",
       "[248 rows x 3 columns]"
      ]
     },
     "execution_count": 367,
     "metadata": {},
     "output_type": "execute_result"
    }
   ],
   "source": [
    "df = pd.merge(left = ondo , right = baechu, how = \"inner\", on = \"date\")\n",
    "df=df.drop(['place'], axis=1)\n",
    "df"
   ]
  },
  {
   "cell_type": "code",
   "execution_count": 368,
   "id": "addc09ef",
   "metadata": {},
   "outputs": [],
   "source": [
    "df.to_csv('./무가격/inter유가/2021ugaintegrated.csv', index=False)"
   ]
  },
  {
   "cell_type": "code",
   "execution_count": null,
   "id": "128d67c9",
   "metadata": {},
   "outputs": [],
   "source": []
  }
 ],
 "metadata": {
  "kernelspec": {
   "display_name": "bigdata",
   "language": "python",
   "name": "bigdata"
  },
  "language_info": {
   "codemirror_mode": {
    "name": "ipython",
    "version": 3
   },
   "file_extension": ".py",
   "mimetype": "text/x-python",
   "name": "python",
   "nbconvert_exporter": "python",
   "pygments_lexer": "ipython3",
   "version": "3.8.8"
  }
 },
 "nbformat": 4,
 "nbformat_minor": 5
}
