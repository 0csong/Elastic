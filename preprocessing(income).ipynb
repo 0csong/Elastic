{
 "cells": [
  {
   "cell_type": "code",
   "execution_count": 1,
   "id": "042c95a3",
   "metadata": {},
   "outputs": [],
   "source": [
    "import numpy as np\n",
    "import pandas as pd\n",
    "import os\n",
    "# Visualization\n",
    "import matplotlib.pyplot as plt\n",
    "import seaborn as sns\n",
    "import scipy.stats"
   ]
  },
  {
   "cell_type": "code",
   "execution_count": 240,
   "id": "feec412a",
   "metadata": {},
   "outputs": [],
   "source": [
    "# baechu =  pd.read_csv('C:/Users/nicky/Desktop/elastic/배추가격/2021배추1kg.csv',encoding='cp949')\n",
    "# print(baechu)\n",
    "# baechu=baechu.transpose()\n",
    "# print(baechu)\n",
    "# baechu.to_csv('C:/Users/nicky/Desktop/elastic/배추가격/2021baechu.csv',index = True)\n"
   ]
  },
  {
   "cell_type": "code",
   "execution_count": 6,
   "id": "f668f3e7",
   "metadata": {},
   "outputs": [
    {
     "name": "stdout",
     "output_type": "stream",
     "text": [
      "   date  price\n",
      "0  2015  1,986\n",
      "1  2016  1,747\n",
      "2  2017  1,678\n",
      "3  2018  2,271\n",
      "4  2019  2,432\n",
      "5  2020  2,494\n",
      "6  2021  2,859\n"
     ]
    }
   ],
   "source": [
    "baechu =  pd.read_csv('C:/Users/nicky/Desktop/elastic/무가격/무가격연간.csv',encoding='utf-8')\n",
    "baechu.columns = ['date','price']\n",
    "print(baechu)"
   ]
  },
  {
   "cell_type": "code",
   "execution_count": 74,
   "id": "fb2caaf4",
   "metadata": {},
   "outputs": [
    {
     "data": {
      "text/html": [
       "<div>\n",
       "<style scoped>\n",
       "    .dataframe tbody tr th:only-of-type {\n",
       "        vertical-align: middle;\n",
       "    }\n",
       "\n",
       "    .dataframe tbody tr th {\n",
       "        vertical-align: top;\n",
       "    }\n",
       "\n",
       "    .dataframe thead th {\n",
       "        text-align: right;\n",
       "    }\n",
       "</style>\n",
       "<table border=\"1\" class=\"dataframe\">\n",
       "  <thead>\n",
       "    <tr style=\"text-align: right;\">\n",
       "      <th></th>\n",
       "      <th>평균</th>\n",
       "      <th>date</th>\n",
       "    </tr>\n",
       "  </thead>\n",
       "  <tbody>\n",
       "    <tr>\n",
       "      <th>0</th>\n",
       "      <td>473</td>\n",
       "      <td>2021-01-04</td>\n",
       "    </tr>\n",
       "    <tr>\n",
       "      <th>1</th>\n",
       "      <td>510</td>\n",
       "      <td>2021-01-05</td>\n",
       "    </tr>\n",
       "    <tr>\n",
       "      <th>2</th>\n",
       "      <td>520</td>\n",
       "      <td>2021-01-06</td>\n",
       "    </tr>\n",
       "    <tr>\n",
       "      <th>3</th>\n",
       "      <td>510</td>\n",
       "      <td>2021-01-07</td>\n",
       "    </tr>\n",
       "    <tr>\n",
       "      <th>4</th>\n",
       "      <td>510</td>\n",
       "      <td>2021-01-08</td>\n",
       "    </tr>\n",
       "    <tr>\n",
       "      <th>...</th>\n",
       "      <td>...</td>\n",
       "      <td>...</td>\n",
       "    </tr>\n",
       "    <tr>\n",
       "      <th>243</th>\n",
       "      <td>925</td>\n",
       "      <td>2021-12-27</td>\n",
       "    </tr>\n",
       "    <tr>\n",
       "      <th>244</th>\n",
       "      <td>894</td>\n",
       "      <td>2021-12-28</td>\n",
       "    </tr>\n",
       "    <tr>\n",
       "      <th>245</th>\n",
       "      <td>922</td>\n",
       "      <td>2021-12-29</td>\n",
       "    </tr>\n",
       "    <tr>\n",
       "      <th>246</th>\n",
       "      <td>926</td>\n",
       "      <td>2021-12-30</td>\n",
       "    </tr>\n",
       "    <tr>\n",
       "      <th>247</th>\n",
       "      <td>896</td>\n",
       "      <td>2021-12-31</td>\n",
       "    </tr>\n",
       "  </tbody>\n",
       "</table>\n",
       "<p>248 rows × 2 columns</p>\n",
       "</div>"
      ],
      "text/plain": [
       "      평균        date\n",
       "0    473  2021-01-04\n",
       "1    510  2021-01-05\n",
       "2    520  2021-01-06\n",
       "3    510  2021-01-07\n",
       "4    510  2021-01-08\n",
       "..   ...         ...\n",
       "243  925  2021-12-27\n",
       "244  894  2021-12-28\n",
       "245  922  2021-12-29\n",
       "246  926  2021-12-30\n",
       "247  896  2021-12-31\n",
       "\n",
       "[248 rows x 2 columns]"
      ]
     },
     "execution_count": 74,
     "metadata": {},
     "output_type": "execute_result"
    }
   ],
   "source": [
    "month = baechu['구분'].apply(lambda x:x[:2])\n",
    "day = baechu['구분'].apply(lambda x:x[4:6])\n",
    "baechu['date'] = '2021-' + month + '-' + day\n",
    "baechu.pop('구분')\n",
    "baechu"
   ]
  },
  {
   "cell_type": "code",
   "execution_count": 75,
   "id": "d5b1122b",
   "metadata": {},
   "outputs": [
    {
     "name": "stdout",
     "output_type": "stream",
     "text": [
      "<class 'pandas.core.frame.DataFrame'>\n",
      "RangeIndex: 248 entries, 0 to 247\n",
      "Data columns (total 2 columns):\n",
      " #   Column  Non-Null Count  Dtype \n",
      "---  ------  --------------  ----- \n",
      " 0   price   248 non-null    object\n",
      " 1   date    248 non-null    object\n",
      "dtypes: object(2)\n",
      "memory usage: 4.0+ KB\n"
     ]
    }
   ],
   "source": [
    "baechu.columns = ['price', 'date']\n",
    "baechu[\"price\"] = baechu[\"price\"].str.replace(pat=r'[^\\w]', repl=r'', regex=True)\n",
    "baechu.info()"
   ]
  },
  {
   "cell_type": "code",
   "execution_count": 7,
   "id": "b7fa455a",
   "metadata": {},
   "outputs": [
    {
     "name": "stdout",
     "output_type": "stream",
     "text": [
      "(90, 6)\n",
      "<bound method NDFrame.head of       date        수출(중량)        수출(금액)        수입(중량)        수입(금액)  Unnamed: 5\n",
      "0   2015.0  3,036,385.10  1,558,636.00  7,149,127.00  3,420,363.00         NaN\n",
      "1   2016.0  2,115,865.50  1,297,197.00  7,569,090.10  3,557,202.00         NaN\n",
      "2   2017.0  3,049,651.20  2,005,764.00  6,323,383.00  3,572,700.00         NaN\n",
      "3   2018.0  3,971,929.30  2,786,969.00  4,112,505.80  3,150,242.00         NaN\n",
      "4   2019.0  4,255,611.90  2,639,560.00  6,261,246.50  3,617,783.00         NaN\n",
      "..     ...           ...           ...           ...           ...         ...\n",
      "85     NaN           NaN           NaN           NaN           NaN         NaN\n",
      "86     NaN           NaN           NaN           NaN           NaN         NaN\n",
      "87     NaN           NaN           NaN           NaN           NaN         NaN\n",
      "88     NaN           NaN           NaN           NaN           NaN         NaN\n",
      "89     NaN           NaN           NaN           NaN           NaN         NaN\n",
      "\n",
      "[90 rows x 6 columns]>\n"
     ]
    }
   ],
   "source": [
    "ondo =  pd.read_csv('C:/Users/nicky/Desktop/elastic/무데이터/수입량/무수입량.csv',encoding='cp949')\n",
    "print(ondo.shape)\n",
    "print(ondo.head)"
   ]
  },
  {
   "cell_type": "code",
   "execution_count": 8,
   "id": "e6583d8b",
   "metadata": {},
   "outputs": [
    {
     "data": {
      "text/html": [
       "<div>\n",
       "<style scoped>\n",
       "    .dataframe tbody tr th:only-of-type {\n",
       "        vertical-align: middle;\n",
       "    }\n",
       "\n",
       "    .dataframe tbody tr th {\n",
       "        vertical-align: top;\n",
       "    }\n",
       "\n",
       "    .dataframe thead th {\n",
       "        text-align: right;\n",
       "    }\n",
       "</style>\n",
       "<table border=\"1\" class=\"dataframe\">\n",
       "  <thead>\n",
       "    <tr style=\"text-align: right;\">\n",
       "      <th></th>\n",
       "      <th>date</th>\n",
       "      <th>income</th>\n",
       "    </tr>\n",
       "  </thead>\n",
       "  <tbody>\n",
       "    <tr>\n",
       "      <th>0</th>\n",
       "      <td>2015.0</td>\n",
       "      <td>7,149,127.00</td>\n",
       "    </tr>\n",
       "    <tr>\n",
       "      <th>1</th>\n",
       "      <td>2016.0</td>\n",
       "      <td>7,569,090.10</td>\n",
       "    </tr>\n",
       "    <tr>\n",
       "      <th>2</th>\n",
       "      <td>2017.0</td>\n",
       "      <td>6,323,383.00</td>\n",
       "    </tr>\n",
       "    <tr>\n",
       "      <th>3</th>\n",
       "      <td>2018.0</td>\n",
       "      <td>4,112,505.80</td>\n",
       "    </tr>\n",
       "    <tr>\n",
       "      <th>4</th>\n",
       "      <td>2019.0</td>\n",
       "      <td>6,261,246.50</td>\n",
       "    </tr>\n",
       "    <tr>\n",
       "      <th>...</th>\n",
       "      <td>...</td>\n",
       "      <td>...</td>\n",
       "    </tr>\n",
       "    <tr>\n",
       "      <th>85</th>\n",
       "      <td>NaN</td>\n",
       "      <td>NaN</td>\n",
       "    </tr>\n",
       "    <tr>\n",
       "      <th>86</th>\n",
       "      <td>NaN</td>\n",
       "      <td>NaN</td>\n",
       "    </tr>\n",
       "    <tr>\n",
       "      <th>87</th>\n",
       "      <td>NaN</td>\n",
       "      <td>NaN</td>\n",
       "    </tr>\n",
       "    <tr>\n",
       "      <th>88</th>\n",
       "      <td>NaN</td>\n",
       "      <td>NaN</td>\n",
       "    </tr>\n",
       "    <tr>\n",
       "      <th>89</th>\n",
       "      <td>NaN</td>\n",
       "      <td>NaN</td>\n",
       "    </tr>\n",
       "  </tbody>\n",
       "</table>\n",
       "<p>90 rows × 2 columns</p>\n",
       "</div>"
      ],
      "text/plain": [
       "      date        income\n",
       "0   2015.0  7,149,127.00\n",
       "1   2016.0  7,569,090.10\n",
       "2   2017.0  6,323,383.00\n",
       "3   2018.0  4,112,505.80\n",
       "4   2019.0  6,261,246.50\n",
       "..     ...           ...\n",
       "85     NaN           NaN\n",
       "86     NaN           NaN\n",
       "87     NaN           NaN\n",
       "88     NaN           NaN\n",
       "89     NaN           NaN\n",
       "\n",
       "[90 rows x 2 columns]"
      ]
     },
     "execution_count": 8,
     "metadata": {},
     "output_type": "execute_result"
    }
   ],
   "source": [
    "ondo=ondo.drop(['수출(중량)','수출(금액)','수입(금액)','Unnamed: 5'], axis=1)\n",
    "ondo.columns=['date','income']\n",
    "ondo"
   ]
  },
  {
   "cell_type": "code",
   "execution_count": 9,
   "id": "0b3b13e6",
   "metadata": {},
   "outputs": [],
   "source": [
    "df = pd.merge(left = ondo , right = baechu, how = \"inner\", on = \"date\")\n"
   ]
  },
  {
   "cell_type": "code",
   "execution_count": 10,
   "id": "eaa9a038",
   "metadata": {},
   "outputs": [
    {
     "data": {
      "text/html": [
       "<div>\n",
       "<style scoped>\n",
       "    .dataframe tbody tr th:only-of-type {\n",
       "        vertical-align: middle;\n",
       "    }\n",
       "\n",
       "    .dataframe tbody tr th {\n",
       "        vertical-align: top;\n",
       "    }\n",
       "\n",
       "    .dataframe thead th {\n",
       "        text-align: right;\n",
       "    }\n",
       "</style>\n",
       "<table border=\"1\" class=\"dataframe\">\n",
       "  <thead>\n",
       "    <tr style=\"text-align: right;\">\n",
       "      <th></th>\n",
       "      <th>date</th>\n",
       "      <th>income</th>\n",
       "      <th>price</th>\n",
       "    </tr>\n",
       "  </thead>\n",
       "  <tbody>\n",
       "    <tr>\n",
       "      <th>0</th>\n",
       "      <td>2015.0</td>\n",
       "      <td>7,149,127.00</td>\n",
       "      <td>1,986</td>\n",
       "    </tr>\n",
       "    <tr>\n",
       "      <th>1</th>\n",
       "      <td>2016.0</td>\n",
       "      <td>7,569,090.10</td>\n",
       "      <td>1,747</td>\n",
       "    </tr>\n",
       "    <tr>\n",
       "      <th>2</th>\n",
       "      <td>2017.0</td>\n",
       "      <td>6,323,383.00</td>\n",
       "      <td>1,678</td>\n",
       "    </tr>\n",
       "    <tr>\n",
       "      <th>3</th>\n",
       "      <td>2018.0</td>\n",
       "      <td>4,112,505.80</td>\n",
       "      <td>2,271</td>\n",
       "    </tr>\n",
       "    <tr>\n",
       "      <th>4</th>\n",
       "      <td>2019.0</td>\n",
       "      <td>6,261,246.50</td>\n",
       "      <td>2,432</td>\n",
       "    </tr>\n",
       "    <tr>\n",
       "      <th>5</th>\n",
       "      <td>2020.0</td>\n",
       "      <td>7,318,965.80</td>\n",
       "      <td>2,494</td>\n",
       "    </tr>\n",
       "    <tr>\n",
       "      <th>6</th>\n",
       "      <td>2021.0</td>\n",
       "      <td>9,795,874.00</td>\n",
       "      <td>2,859</td>\n",
       "    </tr>\n",
       "  </tbody>\n",
       "</table>\n",
       "</div>"
      ],
      "text/plain": [
       "     date        income  price\n",
       "0  2015.0  7,149,127.00  1,986\n",
       "1  2016.0  7,569,090.10  1,747\n",
       "2  2017.0  6,323,383.00  1,678\n",
       "3  2018.0  4,112,505.80  2,271\n",
       "4  2019.0  6,261,246.50  2,432\n",
       "5  2020.0  7,318,965.80  2,494\n",
       "6  2021.0  9,795,874.00  2,859"
      ]
     },
     "execution_count": 10,
     "metadata": {},
     "output_type": "execute_result"
    }
   ],
   "source": [
    "df"
   ]
  },
  {
   "cell_type": "code",
   "execution_count": 11,
   "id": "addc09ef",
   "metadata": {},
   "outputs": [],
   "source": [
    "df.to_csv('./무가격/inter수입량/incomeintegrated.csv', index=False)"
   ]
  },
  {
   "cell_type": "code",
   "execution_count": null,
   "id": "128d67c9",
   "metadata": {},
   "outputs": [],
   "source": []
  }
 ],
 "metadata": {
  "kernelspec": {
   "display_name": "bigdata",
   "language": "python",
   "name": "bigdata"
  },
  "language_info": {
   "codemirror_mode": {
    "name": "ipython",
    "version": 3
   },
   "file_extension": ".py",
   "mimetype": "text/x-python",
   "name": "python",
   "nbconvert_exporter": "python",
   "pygments_lexer": "ipython3",
   "version": "3.8.8"
  }
 },
 "nbformat": 4,
 "nbformat_minor": 5
}
