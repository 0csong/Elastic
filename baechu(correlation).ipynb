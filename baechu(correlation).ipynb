{
 "cells": [
  {
   "cell_type": "code",
   "execution_count": 5,
   "id": "00de3227",
   "metadata": {},
   "outputs": [],
   "source": [
    "import numpy as np\n",
    "import pandas as pd\n",
    "import os\n",
    "# Visualization\n",
    "import matplotlib.pyplot as plt\n",
    "import seaborn as sns\n",
    "import scipy.stats\n",
    "from sklearn.preprocessing import MinMaxScaler,StandardScaler"
   ]
  },
  {
   "cell_type": "code",
   "execution_count": 6,
   "id": "3d313fb8",
   "metadata": {},
   "outputs": [
    {
     "data": {
      "text/html": [
       "<div>\n",
       "<style scoped>\n",
       "    .dataframe tbody tr th:only-of-type {\n",
       "        vertical-align: middle;\n",
       "    }\n",
       "\n",
       "    .dataframe tbody tr th {\n",
       "        vertical-align: top;\n",
       "    }\n",
       "\n",
       "    .dataframe thead th {\n",
       "        text-align: right;\n",
       "    }\n",
       "</style>\n",
       "<table border=\"1\" class=\"dataframe\">\n",
       "  <thead>\n",
       "    <tr style=\"text-align: right;\">\n",
       "      <th></th>\n",
       "      <th>date</th>\n",
       "      <th>place</th>\n",
       "      <th>gangsu</th>\n",
       "      <th>price</th>\n",
       "    </tr>\n",
       "  </thead>\n",
       "  <tbody>\n",
       "    <tr>\n",
       "      <th>0</th>\n",
       "      <td>2015-01-02</td>\n",
       "      <td>100</td>\n",
       "      <td>NaN</td>\n",
       "      <td>380</td>\n",
       "    </tr>\n",
       "    <tr>\n",
       "      <th>1</th>\n",
       "      <td>2015-01-05</td>\n",
       "      <td>100</td>\n",
       "      <td>0.7</td>\n",
       "      <td>380</td>\n",
       "    </tr>\n",
       "    <tr>\n",
       "      <th>2</th>\n",
       "      <td>2015-01-06</td>\n",
       "      <td>100</td>\n",
       "      <td>1.4</td>\n",
       "      <td>380</td>\n",
       "    </tr>\n",
       "    <tr>\n",
       "      <th>3</th>\n",
       "      <td>2015-01-07</td>\n",
       "      <td>100</td>\n",
       "      <td>NaN</td>\n",
       "      <td>380</td>\n",
       "    </tr>\n",
       "    <tr>\n",
       "      <th>4</th>\n",
       "      <td>2015-01-08</td>\n",
       "      <td>100</td>\n",
       "      <td>NaN</td>\n",
       "      <td>380</td>\n",
       "    </tr>\n",
       "  </tbody>\n",
       "</table>\n",
       "</div>"
      ],
      "text/plain": [
       "         date  place  gangsu  price\n",
       "0  2015-01-02    100     NaN    380\n",
       "1  2015-01-05    100     0.7    380\n",
       "2  2015-01-06    100     1.4    380\n",
       "3  2015-01-07    100     NaN    380\n",
       "4  2015-01-08    100     NaN    380"
      ]
     },
     "execution_count": 6,
     "metadata": {},
     "output_type": "execute_result"
    }
   ],
   "source": [
    "df= pd.read_csv('C:/Users/nicky/Desktop/elastic/배추가격/inter강수량/gangsuinter.csv',encoding='cp949')\n",
    "df.head()"
   ]
  },
  {
   "cell_type": "code",
   "execution_count": 7,
   "id": "083f6d69",
   "metadata": {},
   "outputs": [
    {
     "data": {
      "text/html": [
       "<div>\n",
       "<style scoped>\n",
       "    .dataframe tbody tr th:only-of-type {\n",
       "        vertical-align: middle;\n",
       "    }\n",
       "\n",
       "    .dataframe tbody tr th {\n",
       "        vertical-align: top;\n",
       "    }\n",
       "\n",
       "    .dataframe thead th {\n",
       "        text-align: right;\n",
       "    }\n",
       "</style>\n",
       "<table border=\"1\" class=\"dataframe\">\n",
       "  <thead>\n",
       "    <tr style=\"text-align: right;\">\n",
       "      <th></th>\n",
       "      <th>date</th>\n",
       "      <th>place</th>\n",
       "      <th>gangsu</th>\n",
       "      <th>price</th>\n",
       "    </tr>\n",
       "  </thead>\n",
       "  <tbody>\n",
       "    <tr>\n",
       "      <th>0</th>\n",
       "      <td>2015-01-02</td>\n",
       "      <td>100</td>\n",
       "      <td>0.0</td>\n",
       "      <td>380</td>\n",
       "    </tr>\n",
       "    <tr>\n",
       "      <th>1</th>\n",
       "      <td>2015-01-05</td>\n",
       "      <td>100</td>\n",
       "      <td>0.7</td>\n",
       "      <td>380</td>\n",
       "    </tr>\n",
       "    <tr>\n",
       "      <th>2</th>\n",
       "      <td>2015-01-06</td>\n",
       "      <td>100</td>\n",
       "      <td>1.4</td>\n",
       "      <td>380</td>\n",
       "    </tr>\n",
       "    <tr>\n",
       "      <th>3</th>\n",
       "      <td>2015-01-07</td>\n",
       "      <td>100</td>\n",
       "      <td>0.0</td>\n",
       "      <td>380</td>\n",
       "    </tr>\n",
       "    <tr>\n",
       "      <th>4</th>\n",
       "      <td>2015-01-08</td>\n",
       "      <td>100</td>\n",
       "      <td>0.0</td>\n",
       "      <td>380</td>\n",
       "    </tr>\n",
       "    <tr>\n",
       "      <th>...</th>\n",
       "      <td>...</td>\n",
       "      <td>...</td>\n",
       "      <td>...</td>\n",
       "      <td>...</td>\n",
       "    </tr>\n",
       "    <tr>\n",
       "      <th>1717</th>\n",
       "      <td>2021-12-27</td>\n",
       "      <td>100</td>\n",
       "      <td>0.0</td>\n",
       "      <td>925</td>\n",
       "    </tr>\n",
       "    <tr>\n",
       "      <th>1718</th>\n",
       "      <td>2021-12-28</td>\n",
       "      <td>100</td>\n",
       "      <td>0.0</td>\n",
       "      <td>894</td>\n",
       "    </tr>\n",
       "    <tr>\n",
       "      <th>1719</th>\n",
       "      <td>2021-12-29</td>\n",
       "      <td>100</td>\n",
       "      <td>0.0</td>\n",
       "      <td>922</td>\n",
       "    </tr>\n",
       "    <tr>\n",
       "      <th>1720</th>\n",
       "      <td>2021-12-30</td>\n",
       "      <td>100</td>\n",
       "      <td>0.0</td>\n",
       "      <td>926</td>\n",
       "    </tr>\n",
       "    <tr>\n",
       "      <th>1721</th>\n",
       "      <td>2021-12-31</td>\n",
       "      <td>100</td>\n",
       "      <td>0.0</td>\n",
       "      <td>896</td>\n",
       "    </tr>\n",
       "  </tbody>\n",
       "</table>\n",
       "<p>1722 rows × 4 columns</p>\n",
       "</div>"
      ],
      "text/plain": [
       "            date  place  gangsu  price\n",
       "0     2015-01-02    100     0.0    380\n",
       "1     2015-01-05    100     0.7    380\n",
       "2     2015-01-06    100     1.4    380\n",
       "3     2015-01-07    100     0.0    380\n",
       "4     2015-01-08    100     0.0    380\n",
       "...          ...    ...     ...    ...\n",
       "1717  2021-12-27    100     0.0    925\n",
       "1718  2021-12-28    100     0.0    894\n",
       "1719  2021-12-29    100     0.0    922\n",
       "1720  2021-12-30    100     0.0    926\n",
       "1721  2021-12-31    100     0.0    896\n",
       "\n",
       "[1722 rows x 4 columns]"
      ]
     },
     "execution_count": 7,
     "metadata": {},
     "output_type": "execute_result"
    }
   ],
   "source": [
    "df = df.fillna(0)   \n",
    "df"
   ]
  },
  {
   "cell_type": "code",
   "execution_count": 8,
   "id": "3ed43af7",
   "metadata": {},
   "outputs": [],
   "source": [
    "df.to_csv('./배추가격/baechu(fill).csv', index=False)"
   ]
  },
  {
   "cell_type": "code",
   "execution_count": 10,
   "id": "448faeb4",
   "metadata": {},
   "outputs": [],
   "source": [
    "df['price']=df['price'].astype(float)"
   ]
  },
  {
   "cell_type": "code",
   "execution_count": 13,
   "id": "1d31def5",
   "metadata": {},
   "outputs": [
    {
     "name": "stdout",
     "output_type": "stream",
     "text": [
      "강수량 상관관계: (0.15134044314479794, 2.7545072085978127e-10)\n"
     ]
    }
   ],
   "source": [
    "x=df['gangsu']\n",
    "y=df['price']\n",
    "import scipy.stats as stats\n",
    "print('강수량 상관관계:',stats.pearsonr(x,y))"
   ]
  },
  {
   "cell_type": "code",
   "execution_count": 29,
   "id": "a95a1692",
   "metadata": {},
   "outputs": [
    {
     "data": {
      "text/html": [
       "<div>\n",
       "<style scoped>\n",
       "    .dataframe tbody tr th:only-of-type {\n",
       "        vertical-align: middle;\n",
       "    }\n",
       "\n",
       "    .dataframe tbody tr th {\n",
       "        vertical-align: top;\n",
       "    }\n",
       "\n",
       "    .dataframe thead th {\n",
       "        text-align: right;\n",
       "    }\n",
       "</style>\n",
       "<table border=\"1\" class=\"dataframe\">\n",
       "  <thead>\n",
       "    <tr style=\"text-align: right;\">\n",
       "      <th></th>\n",
       "      <th>date</th>\n",
       "      <th>income</th>\n",
       "      <th>price</th>\n",
       "    </tr>\n",
       "  </thead>\n",
       "  <tbody>\n",
       "    <tr>\n",
       "      <th>0</th>\n",
       "      <td>2015.0</td>\n",
       "      <td>31717400.0</td>\n",
       "      <td>554.0</td>\n",
       "    </tr>\n",
       "    <tr>\n",
       "      <th>1</th>\n",
       "      <td>2016.0</td>\n",
       "      <td>38074600.0</td>\n",
       "      <td>1086.0</td>\n",
       "    </tr>\n",
       "    <tr>\n",
       "      <th>2</th>\n",
       "      <td>2017.0</td>\n",
       "      <td>28777200.0</td>\n",
       "      <td>907.0</td>\n",
       "    </tr>\n",
       "    <tr>\n",
       "      <th>3</th>\n",
       "      <td>2018.0</td>\n",
       "      <td>8301900.0</td>\n",
       "      <td>928.0</td>\n",
       "    </tr>\n",
       "    <tr>\n",
       "      <th>4</th>\n",
       "      <td>2019.0</td>\n",
       "      <td>45039270.0</td>\n",
       "      <td>764.0</td>\n",
       "    </tr>\n",
       "  </tbody>\n",
       "</table>\n",
       "</div>"
      ],
      "text/plain": [
       "     date      income   price\n",
       "0  2015.0  31717400.0   554.0\n",
       "1  2016.0  38074600.0  1086.0\n",
       "2  2017.0  28777200.0   907.0\n",
       "3  2018.0   8301900.0   928.0\n",
       "4  2019.0  45039270.0   764.0"
      ]
     },
     "execution_count": 29,
     "metadata": {},
     "output_type": "execute_result"
    }
   ],
   "source": [
    "df1= pd.read_csv('C:/Users/nicky/Desktop/elastic/배추가격/inter수입량/incomeintegrated.csv',encoding='cp949')\n",
    "df1[\"income\"] = df1[\"income\"].str.replace(pat=r'[^\\w]', repl=r'', regex=True)\n",
    "df1[\"price\"] = df1[\"price\"].str.replace(pat=r'[^\\w]', repl=r'', regex=True)\n",
    "df1['price']=df1['price'].astype(float)\n",
    "df1['income']=df1['income'].astype(float)\n",
    "df1.head()"
   ]
  },
  {
   "cell_type": "code",
   "execution_count": 31,
   "id": "3b330945",
   "metadata": {},
   "outputs": [
    {
     "name": "stdout",
     "output_type": "stream",
     "text": [
      "수입량 상관계수: (0.3261049550419851, 0.47534816080575326)\n"
     ]
    }
   ],
   "source": [
    "df1 = df1.fillna(0)\n",
    "df1['price']=df1['price'].astype(float)\n",
    "x=df1['income']\n",
    "y=df1['price']\n",
    "import scipy.stats as stats\n",
    "print('수입량 상관계수:',stats.pearsonr(x,y))"
   ]
  },
  {
   "cell_type": "code",
   "execution_count": 35,
   "id": "41a3c076",
   "metadata": {},
   "outputs": [
    {
     "name": "stdout",
     "output_type": "stream",
     "text": [
      "<class 'pandas.core.frame.DataFrame'>\n",
      "RangeIndex: 1722 entries, 0 to 1721\n",
      "Data columns (total 4 columns):\n",
      " #   Column  Non-Null Count  Dtype  \n",
      "---  ------  --------------  -----  \n",
      " 0   date    1722 non-null   object \n",
      " 1   place   1722 non-null   int64  \n",
      " 2   ondo    1722 non-null   float64\n",
      " 3   price   1722 non-null   int64  \n",
      "dtypes: float64(1), int64(2), object(1)\n",
      "memory usage: 53.9+ KB\n"
     ]
    }
   ],
   "source": [
    "df2= pd.read_csv('C:/Users/nicky/Desktop/elastic/배추가격/inter온도/ondointer.csv',encoding='cp949')\n",
    "df2 = df2.fillna(0)   \n",
    "df2.info()"
   ]
  },
  {
   "cell_type": "code",
   "execution_count": 36,
   "id": "e00d5154",
   "metadata": {},
   "outputs": [
    {
     "name": "stdout",
     "output_type": "stream",
     "text": [
      "온도 상관계수: (0.2940918932763599, 1.062750872856151e-35)\n"
     ]
    }
   ],
   "source": [
    "df2['price']=df2['price'].astype(float)\n",
    "x=df2['ondo']\n",
    "y=df2['price']\n",
    "import scipy.stats as stats\n",
    "print('온도 상관계수:',stats.pearsonr(x,y))"
   ]
  },
  {
   "cell_type": "code",
   "execution_count": 37,
   "id": "f4c20c44",
   "metadata": {},
   "outputs": [
    {
     "name": "stdout",
     "output_type": "stream",
     "text": [
      "<class 'pandas.core.frame.DataFrame'>\n",
      "RangeIndex: 1722 entries, 0 to 1721\n",
      "Data columns (total 3 columns):\n",
      " #   Column  Non-Null Count  Dtype  \n",
      "---  ------  --------------  -----  \n",
      " 0   date    1722 non-null   object \n",
      " 1   uga     1722 non-null   float64\n",
      " 2   price   1722 non-null   int64  \n",
      "dtypes: float64(1), int64(1), object(1)\n",
      "memory usage: 40.5+ KB\n"
     ]
    }
   ],
   "source": [
    "df2= pd.read_csv('C:/Users/nicky/Desktop/elastic/배추가격/inter유가/ugainter.csv',encoding='cp949')\n",
    "df2 = df2.fillna(0)   \n",
    "df2.info()"
   ]
  },
  {
   "cell_type": "code",
   "execution_count": 38,
   "id": "252f1dcd",
   "metadata": {},
   "outputs": [
    {
     "name": "stdout",
     "output_type": "stream",
     "text": [
      "유가 상관계수: (-0.11382771056279188, 2.185422240221528e-06)\n"
     ]
    }
   ],
   "source": [
    "df2['price']=df2['price'].astype(float)\n",
    "x=df2['uga']\n",
    "y=df2['price']\n",
    "import scipy.stats as stats\n",
    "print('유가 상관계수:',stats.pearsonr(x,y))"
   ]
  },
  {
   "cell_type": "code",
   "execution_count": 39,
   "id": "68bc5533",
   "metadata": {},
   "outputs": [
    {
     "name": "stdout",
     "output_type": "stream",
     "text": [
      "<class 'pandas.core.frame.DataFrame'>\n",
      "RangeIndex: 1722 entries, 0 to 1721\n",
      "Data columns (total 3 columns):\n",
      " #   Column  Non-Null Count  Dtype  \n",
      "---  ------  --------------  -----  \n",
      " 0   date    1722 non-null   object \n",
      " 1   illsa   1722 non-null   float64\n",
      " 2   price   1722 non-null   int64  \n",
      "dtypes: float64(1), int64(1), object(1)\n",
      "memory usage: 40.5+ KB\n"
     ]
    }
   ],
   "source": [
    "df2= pd.read_csv('C:/Users/nicky/Desktop/elastic/배추가격/inter일사량/illsaintegrated.csv',encoding='cp949')\n",
    "df2 = df2.fillna(0)   \n",
    "df2.info()"
   ]
  },
  {
   "cell_type": "code",
   "execution_count": 40,
   "id": "9fb47662",
   "metadata": {},
   "outputs": [
    {
     "name": "stdout",
     "output_type": "stream",
     "text": [
      "일사량 상관계수: (0.004511212789937734, 0.8516082905836146)\n"
     ]
    }
   ],
   "source": [
    "df2['price']=df2['price'].astype(float)\n",
    "x=df2['illsa']\n",
    "y=df2['price']\n",
    "import scipy.stats as stats\n",
    "print('일사량 상관계수:',stats.pearsonr(x,y))"
   ]
  },
  {
   "cell_type": "code",
   "execution_count": 2,
   "id": "14b5d6ae",
   "metadata": {},
   "outputs": [
    {
     "name": "stdout",
     "output_type": "stream",
     "text": [
      "<class 'pandas.core.frame.DataFrame'>\n",
      "RangeIndex: 1722 entries, 0 to 1721\n",
      "Data columns (total 3 columns):\n",
      " #   Column  Non-Null Count  Dtype  \n",
      "---  ------  --------------  -----  \n",
      " 0   date    1722 non-null   object \n",
      " 1   snow    1722 non-null   float64\n",
      " 2   price   1722 non-null   int64  \n",
      "dtypes: float64(1), int64(1), object(1)\n",
      "memory usage: 40.5+ KB\n"
     ]
    }
   ],
   "source": [
    "df2= pd.read_csv('C:/Users/nicky/Desktop/elastic/배추가격/inter적설량/snowintegrated.csv',encoding='cp949')\n",
    "df2 = df2.fillna(0)   \n",
    "df2.info()"
   ]
  },
  {
   "cell_type": "code",
   "execution_count": 3,
   "id": "3d556cd8",
   "metadata": {},
   "outputs": [
    {
     "name": "stdout",
     "output_type": "stream",
     "text": [
      "적설량 상관계수: (-0.003335555525720791, 0.8899911689304328)\n"
     ]
    }
   ],
   "source": [
    "df2['price']=df2['price'].astype(float)\n",
    "x=df2['snow']\n",
    "y=df2['price']\n",
    "import scipy.stats as stats\n",
    "print('적설량 상관계수:',stats.pearsonr(x,y))"
   ]
  }
 ],
 "metadata": {
  "kernelspec": {
   "display_name": "bigdata",
   "language": "python",
   "name": "bigdata"
  },
  "language_info": {
   "codemirror_mode": {
    "name": "ipython",
    "version": 3
   },
   "file_extension": ".py",
   "mimetype": "text/x-python",
   "name": "python",
   "nbconvert_exporter": "python",
   "pygments_lexer": "ipython3",
   "version": "3.8.8"
  }
 },
 "nbformat": 4,
 "nbformat_minor": 5
}
