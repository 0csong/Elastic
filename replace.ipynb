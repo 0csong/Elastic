{
 "cells": [
  {
   "cell_type": "code",
   "execution_count": 1,
   "id": "52371c6c",
   "metadata": {},
   "outputs": [],
   "source": [
    "import numpy as np\n",
    "import pandas as pd\n",
    "import os\n",
    "# Visualization\n",
    "import matplotlib.pyplot as plt\n",
    "import seaborn as sns\n",
    "import scipy.stats"
   ]
  },
  {
   "cell_type": "code",
   "execution_count": 2,
   "id": "e32b2824",
   "metadata": {},
   "outputs": [
    {
     "name": "stdout",
     "output_type": "stream",
     "text": [
      "            date  ondo    sun    uga   price\n",
      "0     2015-01-02  -7.5   9.96  53.27   5,967\n",
      "1     2015-01-05   0.0   7.30  50.98   5,967\n",
      "2     2015-01-06   1.0  10.72  48.08   5,967\n",
      "3     2015-01-07  -5.3  11.34  46.60   5,967\n",
      "4     2015-01-08  -6.5  11.84  47.50   5,967\n",
      "...          ...   ...    ...    ...     ...\n",
      "1211  2021-12-27  -5.9   9.82  76.12  10,625\n",
      "1212  2021-12-28  -2.2   9.92  76.47  10,625\n",
      "1213  2021-12-29   0.6   5.65  76.91  10,625\n",
      "1214  2021-12-30  -0.4  10.55  77.24  10,625\n",
      "1215  2021-12-31  -4.1  11.26  77.12  10,625\n",
      "\n",
      "[1216 rows x 5 columns]\n"
     ]
    }
   ],
   "source": [
    "baechu =  pd.read_csv('C:/Users/nicky/Desktop/elastic/LSTM용/garlic(lstm).csv',encoding='cp949')\n",
    "print(baechu)"
   ]
  },
  {
   "cell_type": "code",
   "execution_count": 3,
   "id": "591f486e",
   "metadata": {},
   "outputs": [
    {
     "name": "stdout",
     "output_type": "stream",
     "text": [
      "<class 'pandas.core.frame.DataFrame'>\n",
      "RangeIndex: 1216 entries, 0 to 1215\n",
      "Data columns (total 5 columns):\n",
      " #   Column  Non-Null Count  Dtype  \n",
      "---  ------  --------------  -----  \n",
      " 0   date    1216 non-null   object \n",
      " 1   ondo    1216 non-null   float64\n",
      " 2   sun     1216 non-null   float64\n",
      " 3   uga     1216 non-null   float64\n",
      " 4   price   1216 non-null   object \n",
      "dtypes: float64(3), object(2)\n",
      "memory usage: 47.6+ KB\n"
     ]
    }
   ],
   "source": [
    "baechu.info()"
   ]
  },
  {
   "cell_type": "code",
   "execution_count": 4,
   "id": "bcd2a90b",
   "metadata": {},
   "outputs": [],
   "source": [
    "baechu[\"price\"] = baechu[\"price\"].str.replace(pat=r'[^\\w]', repl=r'', regex=True)"
   ]
  },
  {
   "cell_type": "code",
   "execution_count": 5,
   "id": "6f828855",
   "metadata": {},
   "outputs": [
    {
     "name": "stdout",
     "output_type": "stream",
     "text": [
      "<class 'pandas.core.frame.DataFrame'>\n",
      "RangeIndex: 1216 entries, 0 to 1215\n",
      "Data columns (total 5 columns):\n",
      " #   Column  Non-Null Count  Dtype  \n",
      "---  ------  --------------  -----  \n",
      " 0   date    1216 non-null   object \n",
      " 1   ondo    1216 non-null   float64\n",
      " 2   sun     1216 non-null   float64\n",
      " 3   uga     1216 non-null   float64\n",
      " 4   price   1216 non-null   object \n",
      "dtypes: float64(3), object(2)\n",
      "memory usage: 47.6+ KB\n"
     ]
    }
   ],
   "source": [
    "baechu.info()"
   ]
  },
  {
   "cell_type": "code",
   "execution_count": 6,
   "id": "7801df63",
   "metadata": {},
   "outputs": [],
   "source": [
    "baechu['price']=baechu['price'].astype(float)"
   ]
  },
  {
   "cell_type": "code",
   "execution_count": 7,
   "id": "8530c4e8",
   "metadata": {},
   "outputs": [
    {
     "name": "stdout",
     "output_type": "stream",
     "text": [
      "<class 'pandas.core.frame.DataFrame'>\n",
      "RangeIndex: 1216 entries, 0 to 1215\n",
      "Data columns (total 5 columns):\n",
      " #   Column  Non-Null Count  Dtype  \n",
      "---  ------  --------------  -----  \n",
      " 0   date    1216 non-null   object \n",
      " 1   ondo    1216 non-null   float64\n",
      " 2   sun     1216 non-null   float64\n",
      " 3   uga     1216 non-null   float64\n",
      " 4   price   1216 non-null   float64\n",
      "dtypes: float64(4), object(1)\n",
      "memory usage: 47.6+ KB\n"
     ]
    }
   ],
   "source": [
    "baechu.info()"
   ]
  },
  {
   "cell_type": "code",
   "execution_count": 10,
   "id": "4d901394",
   "metadata": {},
   "outputs": [],
   "source": [
    "baechu.to_csv('./LSTM용/garlic(lstm)1.csv', index=False)"
   ]
  }
 ],
 "metadata": {
  "kernelspec": {
   "display_name": "bigdata",
   "language": "python",
   "name": "bigdata"
  },
  "language_info": {
   "codemirror_mode": {
    "name": "ipython",
    "version": 3
   },
   "file_extension": ".py",
   "mimetype": "text/x-python",
   "name": "python",
   "nbconvert_exporter": "python",
   "pygments_lexer": "ipython3",
   "version": "3.8.8"
  }
 },
 "nbformat": 4,
 "nbformat_minor": 5
}
